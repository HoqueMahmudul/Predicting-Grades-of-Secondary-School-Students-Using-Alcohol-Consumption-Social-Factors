{
 "cells": [
  {
   "cell_type": "markdown",
   "metadata": {},
   "source": [
    "#### Import the Required Libraries"
   ]
  },
  {
   "cell_type": "code",
   "execution_count": 1,
   "metadata": {
    "execution": {
     "iopub.execute_input": "2020-12-21T21:07:23.818318Z",
     "iopub.status.busy": "2020-12-21T21:07:23.817117Z",
     "iopub.status.idle": "2020-12-21T21:07:25.187434Z",
     "shell.execute_reply": "2020-12-21T21:07:25.186634Z"
    },
    "papermill": {
     "duration": 1.455616,
     "end_time": "2020-12-21T21:07:25.187587",
     "exception": false,
     "start_time": "2020-12-21T21:07:23.731971",
     "status": "completed"
    },
    "tags": []
   },
   "outputs": [],
   "source": [
    "import numpy as np\n",
    "import pandas as pd\n",
    "from sklearn.preprocessing import MinMaxScaler\n",
    "from sklearn.model_selection import train_test_split\n",
    "from sklearn.model_selection import KFold\n",
    "from sklearn.ensemble import RandomForestRegressor\n",
    "from sklearn.tree import DecisionTreeRegressor\n",
    "from sklearn.model_selection import RandomizedSearchCV\n",
    "from sklearn.metrics import mean_squared_error\n",
    "from sklearn.metrics import mean_absolute_error\n",
    "import matplotlib.pyplot as plt\n",
    "import seaborn as sns\n",
    "import matplotlib.pyplot as plt \n"
   ]
  },
  {
   "cell_type": "code",
   "execution_count": 2,
   "metadata": {
    "execution": {
     "iopub.execute_input": "2020-12-21T21:07:25.319781Z",
     "iopub.status.busy": "2020-12-21T21:07:25.318949Z",
     "iopub.status.idle": "2020-12-21T21:07:25.363112Z",
     "shell.execute_reply": "2020-12-21T21:07:25.363611Z"
    },
    "papermill": {
     "duration": 0.115779,
     "end_time": "2020-12-21T21:07:25.363885",
     "exception": false,
     "start_time": "2020-12-21T21:07:25.248106",
     "status": "completed"
    },
    "tags": []
   },
   "outputs": [],
   "source": [
    "# read the CSV file\n",
    "df_por = pd.read_csv(\"C:/Users/ASUS/OneDrive/Desktop/445 project/dataset- por/por.csv\")"
   ]
  },
  {
   "cell_type": "markdown",
   "metadata": {
    "papermill": {
     "duration": 0.060228,
     "end_time": "2020-12-21T21:07:25.484038",
     "exception": false,
     "start_time": "2020-12-21T21:07:25.423810",
     "status": "completed"
    },
    "tags": []
   },
   "source": [
    "### EDA"
   ]
  },
  {
   "cell_type": "markdown",
   "metadata": {},
   "source": [
    "Analysis of the attribues"
   ]
  },
  {
   "cell_type": "code",
   "execution_count": 3,
   "metadata": {},
   "outputs": [
    {
     "data": {
      "text/plain": [
       "(649, 33)"
      ]
     },
     "execution_count": 3,
     "metadata": {},
     "output_type": "execute_result"
    }
   ],
   "source": [
    "df_por.shape"
   ]
  },
  {
   "cell_type": "code",
   "execution_count": 4,
   "metadata": {},
   "outputs": [
    {
     "data": {
      "text/html": [
       "<div>\n",
       "<style scoped>\n",
       "    .dataframe tbody tr th:only-of-type {\n",
       "        vertical-align: middle;\n",
       "    }\n",
       "\n",
       "    .dataframe tbody tr th {\n",
       "        vertical-align: top;\n",
       "    }\n",
       "\n",
       "    .dataframe thead th {\n",
       "        text-align: right;\n",
       "    }\n",
       "</style>\n",
       "<table border=\"1\" class=\"dataframe\">\n",
       "  <thead>\n",
       "    <tr style=\"text-align: right;\">\n",
       "      <th></th>\n",
       "      <th>school</th>\n",
       "      <th>sex</th>\n",
       "      <th>age</th>\n",
       "      <th>address</th>\n",
       "      <th>famsize</th>\n",
       "      <th>Pstatus</th>\n",
       "      <th>Medu</th>\n",
       "      <th>Fedu</th>\n",
       "      <th>Mjob</th>\n",
       "      <th>Fjob</th>\n",
       "      <th>...</th>\n",
       "      <th>famrel</th>\n",
       "      <th>freetime</th>\n",
       "      <th>goout</th>\n",
       "      <th>Dalc</th>\n",
       "      <th>Walc</th>\n",
       "      <th>health</th>\n",
       "      <th>absences</th>\n",
       "      <th>G1</th>\n",
       "      <th>G2</th>\n",
       "      <th>G3</th>\n",
       "    </tr>\n",
       "  </thead>\n",
       "  <tbody>\n",
       "    <tr>\n",
       "      <th>0</th>\n",
       "      <td>GP</td>\n",
       "      <td>F</td>\n",
       "      <td>18</td>\n",
       "      <td>U</td>\n",
       "      <td>GT3</td>\n",
       "      <td>A</td>\n",
       "      <td>4</td>\n",
       "      <td>4</td>\n",
       "      <td>at_home</td>\n",
       "      <td>teacher</td>\n",
       "      <td>...</td>\n",
       "      <td>4</td>\n",
       "      <td>3</td>\n",
       "      <td>4</td>\n",
       "      <td>1</td>\n",
       "      <td>1</td>\n",
       "      <td>3</td>\n",
       "      <td>4</td>\n",
       "      <td>0</td>\n",
       "      <td>11</td>\n",
       "      <td>11</td>\n",
       "    </tr>\n",
       "    <tr>\n",
       "      <th>1</th>\n",
       "      <td>GP</td>\n",
       "      <td>F</td>\n",
       "      <td>17</td>\n",
       "      <td>U</td>\n",
       "      <td>GT3</td>\n",
       "      <td>T</td>\n",
       "      <td>1</td>\n",
       "      <td>1</td>\n",
       "      <td>at_home</td>\n",
       "      <td>other</td>\n",
       "      <td>...</td>\n",
       "      <td>5</td>\n",
       "      <td>3</td>\n",
       "      <td>3</td>\n",
       "      <td>1</td>\n",
       "      <td>1</td>\n",
       "      <td>3</td>\n",
       "      <td>2</td>\n",
       "      <td>9</td>\n",
       "      <td>11</td>\n",
       "      <td>11</td>\n",
       "    </tr>\n",
       "    <tr>\n",
       "      <th>2</th>\n",
       "      <td>GP</td>\n",
       "      <td>F</td>\n",
       "      <td>15</td>\n",
       "      <td>U</td>\n",
       "      <td>LE3</td>\n",
       "      <td>T</td>\n",
       "      <td>1</td>\n",
       "      <td>1</td>\n",
       "      <td>at_home</td>\n",
       "      <td>other</td>\n",
       "      <td>...</td>\n",
       "      <td>4</td>\n",
       "      <td>3</td>\n",
       "      <td>2</td>\n",
       "      <td>2</td>\n",
       "      <td>3</td>\n",
       "      <td>3</td>\n",
       "      <td>6</td>\n",
       "      <td>12</td>\n",
       "      <td>13</td>\n",
       "      <td>12</td>\n",
       "    </tr>\n",
       "    <tr>\n",
       "      <th>3</th>\n",
       "      <td>GP</td>\n",
       "      <td>F</td>\n",
       "      <td>15</td>\n",
       "      <td>U</td>\n",
       "      <td>GT3</td>\n",
       "      <td>T</td>\n",
       "      <td>4</td>\n",
       "      <td>2</td>\n",
       "      <td>health</td>\n",
       "      <td>services</td>\n",
       "      <td>...</td>\n",
       "      <td>3</td>\n",
       "      <td>2</td>\n",
       "      <td>2</td>\n",
       "      <td>1</td>\n",
       "      <td>1</td>\n",
       "      <td>5</td>\n",
       "      <td>0</td>\n",
       "      <td>14</td>\n",
       "      <td>14</td>\n",
       "      <td>14</td>\n",
       "    </tr>\n",
       "    <tr>\n",
       "      <th>4</th>\n",
       "      <td>GP</td>\n",
       "      <td>F</td>\n",
       "      <td>16</td>\n",
       "      <td>U</td>\n",
       "      <td>GT3</td>\n",
       "      <td>T</td>\n",
       "      <td>3</td>\n",
       "      <td>3</td>\n",
       "      <td>other</td>\n",
       "      <td>other</td>\n",
       "      <td>...</td>\n",
       "      <td>4</td>\n",
       "      <td>3</td>\n",
       "      <td>2</td>\n",
       "      <td>1</td>\n",
       "      <td>2</td>\n",
       "      <td>5</td>\n",
       "      <td>0</td>\n",
       "      <td>11</td>\n",
       "      <td>13</td>\n",
       "      <td>13</td>\n",
       "    </tr>\n",
       "  </tbody>\n",
       "</table>\n",
       "<p>5 rows × 33 columns</p>\n",
       "</div>"
      ],
      "text/plain": [
       "  school sex  age address famsize Pstatus  Medu  Fedu     Mjob      Fjob  ...  \\\n",
       "0     GP   F   18       U     GT3       A     4     4  at_home   teacher  ...   \n",
       "1     GP   F   17       U     GT3       T     1     1  at_home     other  ...   \n",
       "2     GP   F   15       U     LE3       T     1     1  at_home     other  ...   \n",
       "3     GP   F   15       U     GT3       T     4     2   health  services  ...   \n",
       "4     GP   F   16       U     GT3       T     3     3    other     other  ...   \n",
       "\n",
       "  famrel freetime  goout  Dalc  Walc health absences  G1  G2  G3  \n",
       "0      4        3      4     1     1      3        4   0  11  11  \n",
       "1      5        3      3     1     1      3        2   9  11  11  \n",
       "2      4        3      2     2     3      3        6  12  13  12  \n",
       "3      3        2      2     1     1      5        0  14  14  14  \n",
       "4      4        3      2     1     2      5        0  11  13  13  \n",
       "\n",
       "[5 rows x 33 columns]"
      ]
     },
     "execution_count": 4,
     "metadata": {},
     "output_type": "execute_result"
    }
   ],
   "source": [
    "df_por.head()"
   ]
  },
  {
   "cell_type": "code",
   "execution_count": 5,
   "metadata": {},
   "outputs": [
    {
     "name": "stdout",
     "output_type": "stream",
     "text": [
      "<class 'pandas.core.frame.DataFrame'>\n",
      "RangeIndex: 649 entries, 0 to 648\n",
      "Data columns (total 33 columns):\n",
      " #   Column      Non-Null Count  Dtype \n",
      "---  ------      --------------  ----- \n",
      " 0   school      649 non-null    object\n",
      " 1   sex         649 non-null    object\n",
      " 2   age         649 non-null    int64 \n",
      " 3   address     649 non-null    object\n",
      " 4   famsize     649 non-null    object\n",
      " 5   Pstatus     649 non-null    object\n",
      " 6   Medu        649 non-null    int64 \n",
      " 7   Fedu        649 non-null    int64 \n",
      " 8   Mjob        649 non-null    object\n",
      " 9   Fjob        649 non-null    object\n",
      " 10  reason      649 non-null    object\n",
      " 11  guardian    649 non-null    object\n",
      " 12  traveltime  649 non-null    int64 \n",
      " 13  studytime   649 non-null    int64 \n",
      " 14  failures    649 non-null    int64 \n",
      " 15  schoolsup   649 non-null    object\n",
      " 16  famsup      649 non-null    object\n",
      " 17  paid        649 non-null    object\n",
      " 18  activities  649 non-null    object\n",
      " 19  nursery     649 non-null    object\n",
      " 20  higher      649 non-null    object\n",
      " 21  internet    649 non-null    object\n",
      " 22  romantic    649 non-null    object\n",
      " 23  famrel      649 non-null    int64 \n",
      " 24  freetime    649 non-null    int64 \n",
      " 25  goout       649 non-null    int64 \n",
      " 26  Dalc        649 non-null    int64 \n",
      " 27  Walc        649 non-null    int64 \n",
      " 28  health      649 non-null    int64 \n",
      " 29  absences    649 non-null    int64 \n",
      " 30  G1          649 non-null    int64 \n",
      " 31  G2          649 non-null    int64 \n",
      " 32  G3          649 non-null    int64 \n",
      "dtypes: int64(16), object(17)\n",
      "memory usage: 167.4+ KB\n"
     ]
    }
   ],
   "source": [
    "df_por.info()"
   ]
  },
  {
   "cell_type": "code",
   "execution_count": 6,
   "metadata": {
    "execution": {
     "iopub.execute_input": "2020-12-21T21:07:25.636191Z",
     "iopub.status.busy": "2020-12-21T21:07:25.635445Z",
     "iopub.status.idle": "2020-12-21T21:07:25.659593Z",
     "shell.execute_reply": "2020-12-21T21:07:25.658873Z"
    },
    "papermill": {
     "duration": 0.115593,
     "end_time": "2020-12-21T21:07:25.659716",
     "exception": false,
     "start_time": "2020-12-21T21:07:25.544123",
     "status": "completed"
    },
    "tags": []
   },
   "outputs": [
    {
     "data": {
      "text/html": [
       "<div>\n",
       "<style scoped>\n",
       "    .dataframe tbody tr th:only-of-type {\n",
       "        vertical-align: middle;\n",
       "    }\n",
       "\n",
       "    .dataframe tbody tr th {\n",
       "        vertical-align: top;\n",
       "    }\n",
       "\n",
       "    .dataframe thead th {\n",
       "        text-align: right;\n",
       "    }\n",
       "</style>\n",
       "<table border=\"1\" class=\"dataframe\">\n",
       "  <thead>\n",
       "    <tr style=\"text-align: right;\">\n",
       "      <th></th>\n",
       "      <th>age</th>\n",
       "      <th>Medu</th>\n",
       "      <th>Fedu</th>\n",
       "      <th>traveltime</th>\n",
       "      <th>studytime</th>\n",
       "      <th>failures</th>\n",
       "      <th>famrel</th>\n",
       "      <th>freetime</th>\n",
       "      <th>goout</th>\n",
       "      <th>Dalc</th>\n",
       "      <th>Walc</th>\n",
       "      <th>health</th>\n",
       "      <th>absences</th>\n",
       "      <th>G1</th>\n",
       "      <th>G2</th>\n",
       "      <th>G3</th>\n",
       "    </tr>\n",
       "  </thead>\n",
       "  <tbody>\n",
       "    <tr>\n",
       "      <th>count</th>\n",
       "      <td>649.000000</td>\n",
       "      <td>649.000000</td>\n",
       "      <td>649.000000</td>\n",
       "      <td>649.000000</td>\n",
       "      <td>649.000000</td>\n",
       "      <td>649.000000</td>\n",
       "      <td>649.000000</td>\n",
       "      <td>649.000000</td>\n",
       "      <td>649.000000</td>\n",
       "      <td>649.000000</td>\n",
       "      <td>649.000000</td>\n",
       "      <td>649.000000</td>\n",
       "      <td>649.000000</td>\n",
       "      <td>649.000000</td>\n",
       "      <td>649.000000</td>\n",
       "      <td>649.000000</td>\n",
       "    </tr>\n",
       "    <tr>\n",
       "      <th>mean</th>\n",
       "      <td>16.744222</td>\n",
       "      <td>2.514638</td>\n",
       "      <td>2.306626</td>\n",
       "      <td>1.568567</td>\n",
       "      <td>1.930663</td>\n",
       "      <td>0.221880</td>\n",
       "      <td>3.930663</td>\n",
       "      <td>3.180277</td>\n",
       "      <td>3.184900</td>\n",
       "      <td>1.502311</td>\n",
       "      <td>2.280431</td>\n",
       "      <td>3.536210</td>\n",
       "      <td>3.659476</td>\n",
       "      <td>11.399076</td>\n",
       "      <td>11.570108</td>\n",
       "      <td>11.906009</td>\n",
       "    </tr>\n",
       "    <tr>\n",
       "      <th>std</th>\n",
       "      <td>1.218138</td>\n",
       "      <td>1.134552</td>\n",
       "      <td>1.099931</td>\n",
       "      <td>0.748660</td>\n",
       "      <td>0.829510</td>\n",
       "      <td>0.593235</td>\n",
       "      <td>0.955717</td>\n",
       "      <td>1.051093</td>\n",
       "      <td>1.175766</td>\n",
       "      <td>0.924834</td>\n",
       "      <td>1.284380</td>\n",
       "      <td>1.446259</td>\n",
       "      <td>4.640759</td>\n",
       "      <td>2.745265</td>\n",
       "      <td>2.913639</td>\n",
       "      <td>3.230656</td>\n",
       "    </tr>\n",
       "    <tr>\n",
       "      <th>min</th>\n",
       "      <td>15.000000</td>\n",
       "      <td>0.000000</td>\n",
       "      <td>0.000000</td>\n",
       "      <td>1.000000</td>\n",
       "      <td>1.000000</td>\n",
       "      <td>0.000000</td>\n",
       "      <td>1.000000</td>\n",
       "      <td>1.000000</td>\n",
       "      <td>1.000000</td>\n",
       "      <td>1.000000</td>\n",
       "      <td>1.000000</td>\n",
       "      <td>1.000000</td>\n",
       "      <td>0.000000</td>\n",
       "      <td>0.000000</td>\n",
       "      <td>0.000000</td>\n",
       "      <td>0.000000</td>\n",
       "    </tr>\n",
       "    <tr>\n",
       "      <th>25%</th>\n",
       "      <td>16.000000</td>\n",
       "      <td>2.000000</td>\n",
       "      <td>1.000000</td>\n",
       "      <td>1.000000</td>\n",
       "      <td>1.000000</td>\n",
       "      <td>0.000000</td>\n",
       "      <td>4.000000</td>\n",
       "      <td>3.000000</td>\n",
       "      <td>2.000000</td>\n",
       "      <td>1.000000</td>\n",
       "      <td>1.000000</td>\n",
       "      <td>2.000000</td>\n",
       "      <td>0.000000</td>\n",
       "      <td>10.000000</td>\n",
       "      <td>10.000000</td>\n",
       "      <td>10.000000</td>\n",
       "    </tr>\n",
       "    <tr>\n",
       "      <th>50%</th>\n",
       "      <td>17.000000</td>\n",
       "      <td>2.000000</td>\n",
       "      <td>2.000000</td>\n",
       "      <td>1.000000</td>\n",
       "      <td>2.000000</td>\n",
       "      <td>0.000000</td>\n",
       "      <td>4.000000</td>\n",
       "      <td>3.000000</td>\n",
       "      <td>3.000000</td>\n",
       "      <td>1.000000</td>\n",
       "      <td>2.000000</td>\n",
       "      <td>4.000000</td>\n",
       "      <td>2.000000</td>\n",
       "      <td>11.000000</td>\n",
       "      <td>11.000000</td>\n",
       "      <td>12.000000</td>\n",
       "    </tr>\n",
       "    <tr>\n",
       "      <th>75%</th>\n",
       "      <td>18.000000</td>\n",
       "      <td>4.000000</td>\n",
       "      <td>3.000000</td>\n",
       "      <td>2.000000</td>\n",
       "      <td>2.000000</td>\n",
       "      <td>0.000000</td>\n",
       "      <td>5.000000</td>\n",
       "      <td>4.000000</td>\n",
       "      <td>4.000000</td>\n",
       "      <td>2.000000</td>\n",
       "      <td>3.000000</td>\n",
       "      <td>5.000000</td>\n",
       "      <td>6.000000</td>\n",
       "      <td>13.000000</td>\n",
       "      <td>13.000000</td>\n",
       "      <td>14.000000</td>\n",
       "    </tr>\n",
       "    <tr>\n",
       "      <th>max</th>\n",
       "      <td>22.000000</td>\n",
       "      <td>4.000000</td>\n",
       "      <td>4.000000</td>\n",
       "      <td>4.000000</td>\n",
       "      <td>4.000000</td>\n",
       "      <td>3.000000</td>\n",
       "      <td>5.000000</td>\n",
       "      <td>5.000000</td>\n",
       "      <td>5.000000</td>\n",
       "      <td>5.000000</td>\n",
       "      <td>5.000000</td>\n",
       "      <td>5.000000</td>\n",
       "      <td>32.000000</td>\n",
       "      <td>19.000000</td>\n",
       "      <td>19.000000</td>\n",
       "      <td>19.000000</td>\n",
       "    </tr>\n",
       "  </tbody>\n",
       "</table>\n",
       "</div>"
      ],
      "text/plain": [
       "              age        Medu        Fedu  traveltime   studytime    failures  \\\n",
       "count  649.000000  649.000000  649.000000  649.000000  649.000000  649.000000   \n",
       "mean    16.744222    2.514638    2.306626    1.568567    1.930663    0.221880   \n",
       "std      1.218138    1.134552    1.099931    0.748660    0.829510    0.593235   \n",
       "min     15.000000    0.000000    0.000000    1.000000    1.000000    0.000000   \n",
       "25%     16.000000    2.000000    1.000000    1.000000    1.000000    0.000000   \n",
       "50%     17.000000    2.000000    2.000000    1.000000    2.000000    0.000000   \n",
       "75%     18.000000    4.000000    3.000000    2.000000    2.000000    0.000000   \n",
       "max     22.000000    4.000000    4.000000    4.000000    4.000000    3.000000   \n",
       "\n",
       "           famrel    freetime       goout        Dalc        Walc      health  \\\n",
       "count  649.000000  649.000000  649.000000  649.000000  649.000000  649.000000   \n",
       "mean     3.930663    3.180277    3.184900    1.502311    2.280431    3.536210   \n",
       "std      0.955717    1.051093    1.175766    0.924834    1.284380    1.446259   \n",
       "min      1.000000    1.000000    1.000000    1.000000    1.000000    1.000000   \n",
       "25%      4.000000    3.000000    2.000000    1.000000    1.000000    2.000000   \n",
       "50%      4.000000    3.000000    3.000000    1.000000    2.000000    4.000000   \n",
       "75%      5.000000    4.000000    4.000000    2.000000    3.000000    5.000000   \n",
       "max      5.000000    5.000000    5.000000    5.000000    5.000000    5.000000   \n",
       "\n",
       "         absences          G1          G2          G3  \n",
       "count  649.000000  649.000000  649.000000  649.000000  \n",
       "mean     3.659476   11.399076   11.570108   11.906009  \n",
       "std      4.640759    2.745265    2.913639    3.230656  \n",
       "min      0.000000    0.000000    0.000000    0.000000  \n",
       "25%      0.000000   10.000000   10.000000   10.000000  \n",
       "50%      2.000000   11.000000   11.000000   12.000000  \n",
       "75%      6.000000   13.000000   13.000000   14.000000  \n",
       "max     32.000000   19.000000   19.000000   19.000000  "
      ]
     },
     "execution_count": 6,
     "metadata": {},
     "output_type": "execute_result"
    }
   ],
   "source": [
    "df_por.describe()"
   ]
  },
  {
   "cell_type": "code",
   "execution_count": 7,
   "metadata": {
    "execution": {
     "iopub.execute_input": "2020-12-21T21:07:25.946299Z",
     "iopub.status.busy": "2020-12-21T21:07:25.935614Z",
     "iopub.status.idle": "2020-12-21T21:07:25.950866Z",
     "shell.execute_reply": "2020-12-21T21:07:25.950215Z"
    },
    "papermill": {
     "duration": 0.091314,
     "end_time": "2020-12-21T21:07:25.950992",
     "exception": false,
     "start_time": "2020-12-21T21:07:25.859678",
     "status": "completed"
    },
    "tags": []
   },
   "outputs": [
    {
     "data": {
      "image/png": "[encoded data removed]",
      "text/plain": [
       "<Figure size 432x288 with 1 Axes>"
      ]
     },
     "metadata": {
      "needs_background": "light"
     },
     "output_type": "display_data"
    },
    {
     "data": {
      "image/png": "[encoded data removed]",
      "text/plain": [
       "<Figure size 432x288 with 1 Axes>"
      ]
     },
     "metadata": {
      "needs_background": "light"
     },
     "output_type": "display_data"
    },
    {
     "data": {
      "image/png": "[encoded data removed]",
      "text/plain": [
       "<Figure size 432x288 with 1 Axes>"
      ]
     },
     "metadata": {
      "needs_background": "light"
     },
     "output_type": "display_data"
    },
    {
     "data": {
      "image/png": "[encoded data removed]",
      "text/plain": [
       "<Figure size 432x288 with 1 Axes>"
      ]
     },
     "metadata": {
      "needs_background": "light"
     },
     "output_type": "display_data"
    },
    {
     "data": {
      "image/png": "[encoded data removed]",
      "text/plain": [
       "<Figure size 432x288 with 1 Axes>"
      ]
     },
     "metadata": {
      "needs_background": "light"
     },
     "output_type": "display_data"
    },
    {
     "data": {
      "image/png": "[encoded data removed]",
      "text/plain": [
       "<Figure size 432x288 with 1 Axes>"
      ]
     },
     "metadata": {
      "needs_background": "light"
     },
     "output_type": "display_data"
    },
    {
     "data": {
      "image/png": "[encoded data removed]",
      "text/plain": [
       "<Figure size 432x288 with 1 Axes>"
      ]
     },
     "metadata": {
      "needs_background": "light"
     },
     "output_type": "display_data"
    },
    {
     "data": {
      "image/png": "[encoded data removed]",
      "text/plain": [
       "<Figure size 432x288 with 1 Axes>"
      ]
     },
     "metadata": {
      "needs_background": "light"
     },
     "output_type": "display_data"
    },
    {
     "data": {
      "image/png": "[encoded data removed]",
      "text/plain": [
       "<Figure size 432x288 with 1 Axes>"
      ]
     },
     "metadata": {
      "needs_background": "light"
     },
     "output_type": "display_data"
    },
    {
     "data": {
      "image/png": "[encoded data removed]",
      "text/plain": [
       "<Figure size 432x288 with 1 Axes>"
      ]
     },
     "metadata": {
      "needs_background": "light"
     },
     "output_type": "display_data"
    },
    {
     "data": {
      "image/png": "[encoded data removed]",
      "text/plain": [
       "<Figure size 432x288 with 1 Axes>"
      ]
     },
     "metadata": {
      "needs_background": "light"
     },
     "output_type": "display_data"
    },
    {
     "data": {
      "image/png": "[encoded data removed]",
      "text/plain": [
       "<Figure size 432x288 with 1 Axes>"
      ]
     },
     "metadata": {
      "needs_background": "light"
     },
     "output_type": "display_data"
    },
    {
     "data": {
      "image/png": "[encoded data removed]",
      "text/plain": [
       "<Figure size 432x288 with 1 Axes>"
      ]
     },
     "metadata": {
      "needs_background": "light"
     },
     "output_type": "display_data"
    },
    {
     "data": {
      "image/png": "[encoded data removed]",
      "text/plain": [
       "<Figure size 432x288 with 1 Axes>"
      ]
     },
     "metadata": {
      "needs_background": "light"
     },
     "output_type": "display_data"
    },
    {
     "data": {
      "image/png": "[encoded data removed]",
      "text/plain": [
       "<Figure size 432x288 with 1 Axes>"
      ]
     },
     "metadata": {
      "needs_background": "light"
     },
     "output_type": "display_data"
    },
    {
     "data": {
      "image/png": "[encoded data removed]",
      "text/plain": [
       "<Figure size 432x288 with 1 Axes>"
      ]
     },
     "metadata": {
      "needs_background": "light"
     },
     "output_type": "display_data"
    },
    {
     "data": {
      "image/png": "[encoded data removed]",
      "text/plain": [
       "<Figure size 432x288 with 1 Axes>"
      ]
     },
     "metadata": {
      "needs_background": "light"
     },
     "output_type": "display_data"
    },
    {
     "data": {
      "image/png": "[encoded data removed]",
      "text/plain": [
       "<Figure size 432x288 with 1 Axes>"
      ]
     },
     "metadata": {
      "needs_background": "light"
     },
     "output_type": "display_data"
    },
    {
     "data": {
      "image/png": "[encoded data removed]",
      "text/plain": [
       "<Figure size 432x288 with 1 Axes>"
      ]
     },
     "metadata": {
      "needs_background": "light"
     },
     "output_type": "display_data"
    },
    {
     "data": {
      "image/png": "[encoded data removed]",
      "text/plain": [
       "<Figure size 432x288 with 1 Axes>"
      ]
     },
     "metadata": {
      "needs_background": "light"
     },
     "output_type": "display_data"
    },
    {
     "data": {
      "image/png": "[encoded data removed]",
      "text/plain": [
       "<Figure size 432x288 with 1 Axes>"
      ]
     },
     "metadata": {
      "needs_background": "light"
     },
     "output_type": "display_data"
    },
    {
     "data": {
      "image/png": "[encoded data removed]",
      "text/plain": [
       "<Figure size 432x288 with 1 Axes>"
      ]
     },
     "metadata": {
      "needs_background": "light"
     },
     "output_type": "display_data"
    },
    {
     "data": {
      "image/png": "[encoded data removed]",
      "text/plain": [
       "<Figure size 432x288 with 1 Axes>"
      ]
     },
     "metadata": {
      "needs_background": "light"
     },
     "output_type": "display_data"
    },
    {
     "data": {
      "image/png": "[encoded data removed]",
      "text/plain": [
       "<Figure size 432x288 with 1 Axes>"
      ]
     },
     "metadata": {
      "needs_background": "light"
     },
     "output_type": "display_data"
    },
    {
     "data": {
      "image/png": "[encoded data removed]",
      "text/plain": [
       "<Figure size 432x288 with 1 Axes>"
      ]
     },
     "metadata": {
      "needs_background": "light"
     },
     "output_type": "display_data"
    },
    {
     "data": {
      "image/png": "[encoded data removed]",
      "text/plain": [
       "<Figure size 432x288 with 1 Axes>"
      ]
     },
     "metadata": {
      "needs_background": "light"
     },
     "output_type": "display_data"
    },
    {
     "data": {
      "image/png": "[encoded data removed]",
      "text/plain": [
       "<Figure size 432x288 with 1 Axes>"
      ]
     },
     "metadata": {
      "needs_background": "light"
     },
     "output_type": "display_data"
    },
    {
     "data": {
      "image/png": "[encoded data removed]",
      "text/plain": [
       "<Figure size 432x288 with 1 Axes>"
      ]
     },
     "metadata": {
      "needs_background": "light"
     },
     "output_type": "display_data"
    },
    {
     "data": {
      "image/png": "[encoded data removed]",
      "text/plain": [
       "<Figure size 432x288 with 1 Axes>"
      ]
     },
     "metadata": {
      "needs_background": "light"
     },
     "output_type": "display_data"
    },
    {
     "data": {
      "image/png": "[encoded data removed]",
      "text/plain": [
       "<Figure size 432x288 with 1 Axes>"
      ]
     },
     "metadata": {
      "needs_background": "light"
     },
     "output_type": "display_data"
    }
   ],
   "source": [
    "# plotting bar graphs numerical columns and histoplots for categorical coloumns\n",
    "for column in df_por.columns[:-3]:\n",
    "    # check if the column is numerical.\n",
    "    if df_por[column].dtype == np.dtype('int64') or df_por[column].dtype == np.dtype('float64'):\n",
    "        df_por[column].plot.hist()\n",
    "        plt.title(column)\n",
    "        plt.show()\n",
    "    else:\n",
    "        df_por[column].value_counts().plot.bar()\n",
    "        plt.title(column)\n",
    "        plt.show()\n"
   ]
  },
  {
   "cell_type": "code",
   "execution_count": 8,
   "metadata": {},
   "outputs": [
    {
     "data": {
      "image/png": "[encoded data removed]",
      "text/plain": [
       "<Figure size 432x360 with 1 Axes>"
      ]
     },
     "metadata": {},
     "output_type": "display_data"
    }
   ],
   "source": [
    "# pie chart to analyse gender\n",
    "f, ax = plt.subplots(figsize=(6, 5))\n",
    "plt.pie(df_por['sex'].value_counts().tolist(), \n",
    "        labels=['Female', 'Male'], \n",
    "        autopct='%2.2f%%', startangle=90)\n",
    "axis = plt.axis('equal')"
   ]
  },
  {
   "cell_type": "code",
   "execution_count": 9,
   "metadata": {},
   "outputs": [
    {
     "data": {
      "image/png": "[encoded data removed]",
      "text/plain": [
       "<Figure size 432x288 with 1 Axes>"
      ]
     },
     "metadata": {
      "needs_background": "light"
     },
     "output_type": "display_data"
    },
    {
     "data": {
      "image/png": "[encoded data removed]",
      "text/plain": [
       "<Figure size 432x288 with 1 Axes>"
      ]
     },
     "metadata": {
      "needs_background": "light"
     },
     "output_type": "display_data"
    },
    {
     "data": {
      "image/png": "[encoded data removed]",
      "text/plain": [
       "<Figure size 432x288 with 1 Axes>"
      ]
     },
     "metadata": {
      "needs_background": "light"
     },
     "output_type": "display_data"
    },
    {
     "data": {
      "image/png": "[encoded data removed]",
      "text/plain": [
       "<Figure size 432x288 with 1 Axes>"
      ]
     },
     "metadata": {
      "needs_background": "light"
     },
     "output_type": "display_data"
    },
    {
     "data": {
      "image/png": "[encoded data removed]",
      "text/plain": [
       "<Figure size 432x288 with 1 Axes>"
      ]
     },
     "metadata": {
      "needs_background": "light"
     },
     "output_type": "display_data"
    },
    {
     "data": {
      "image/png": "[encoded data removed]",
      "text/plain": [
       "<Figure size 432x288 with 1 Axes>"
      ]
     },
     "metadata": {
      "needs_background": "light"
     },
     "output_type": "display_data"
    },
    {
     "data": {
      "image/png": "[encoded data removed]",
      "text/plain": [
       "<Figure size 432x288 with 1 Axes>"
      ]
     },
     "metadata": {
      "needs_background": "light"
     },
     "output_type": "display_data"
    },
    {
     "data": {
      "image/png": "[encoded data removed]",
      "text/plain": [
       "<Figure size 432x288 with 1 Axes>"
      ]
     },
     "metadata": {
      "needs_background": "light"
     },
     "output_type": "display_data"
    },
    {
     "data": {
      "image/png": "[encoded data removed]",
      "text/plain": [
       "<Figure size 432x288 with 1 Axes>"
      ]
     },
     "metadata": {
      "needs_background": "light"
     },
     "output_type": "display_data"
    },
    {
     "data": {
      "image/png": "[encoded data removed]",
      "text/plain": [
       "<Figure size 432x288 with 1 Axes>"
      ]
     },
     "metadata": {
      "needs_background": "light"
     },
     "output_type": "display_data"
    },
    {
     "data": {
      "image/png": "[encoded data removed]",
      "text/plain": [
       "<Figure size 432x288 with 1 Axes>"
      ]
     },
     "metadata": {
      "needs_background": "light"
     },
     "output_type": "display_data"
    },
    {
     "data": {
      "image/png": "[encoded data removed]",
      "text/plain": [
       "<Figure size 432x288 with 1 Axes>"
      ]
     },
     "metadata": {
      "needs_background": "light"
     },
     "output_type": "display_data"
    },
    {
     "data": {
      "image/png": "[encoded data removed]",
      "text/plain": [
       "<Figure size 432x288 with 1 Axes>"
      ]
     },
     "metadata": {
      "needs_background": "light"
     },
     "output_type": "display_data"
    }
   ],
   "source": [
    "# plot the box plot of the numerical columns\n",
    "for column in df_por.columns[:-3]:\n",
    "    # check if the column is numerical\n",
    "    if df_por[column].dtype == np.dtype('int64') or df_por[column].dtype == np.dtype('float64'):\n",
    "        sns.boxplot(x=column, data=df_por)\n",
    "        plt.title(column)\n",
    "        plt.show()"
   ]
  },
  {
   "cell_type": "code",
   "execution_count": 10,
   "metadata": {},
   "outputs": [
    {
     "data": {
      "text/html": [
       "<style type=\"text/css\">\n",
       "#T_b0982_row0_col0, #T_b0982_row1_col1, #T_b0982_row2_col2, #T_b0982_row3_col3, #T_b0982_row4_col4, #T_b0982_row5_col5, #T_b0982_row6_col6, #T_b0982_row7_col7, #T_b0982_row8_col8, #T_b0982_row9_col9, #T_b0982_row10_col10, #T_b0982_row11_col11, #T_b0982_row12_col12, #T_b0982_row13_col13, #T_b0982_row14_col14, #T_b0982_row15_col15 {\n",
       "  background-color: #b40426;\n",
       "  color: #f1f1f1;\n",
       "}\n",
       "#T_b0982_row0_col1, #T_b0982_row3_col4, #T_b0982_row3_col12, #T_b0982_row5_col8, #T_b0982_row5_col11 {\n",
       "  background-color: #6180e9;\n",
       "  color: #f1f1f1;\n",
       "}\n",
       "#T_b0982_row0_col2, #T_b0982_row5_col1 {\n",
       "  background-color: #506bda;\n",
       "  color: #f1f1f1;\n",
       "}\n",
       "#T_b0982_row0_col3, #T_b0982_row5_col12, #T_b0982_row6_col5 {\n",
       "  background-color: #88abfd;\n",
       "  color: #000000;\n",
       "}\n",
       "#T_b0982_row0_col4, #T_b0982_row2_col9, #T_b0982_row11_col3, #T_b0982_row12_col13 {\n",
       "  background-color: #7093f3;\n",
       "  color: #f1f1f1;\n",
       "}\n",
       "#T_b0982_row0_col5 {\n",
       "  background-color: #e0dbd8;\n",
       "  color: #000000;\n",
       "}\n",
       "#T_b0982_row0_col6 {\n",
       "  background-color: #4f69d9;\n",
       "  color: #f1f1f1;\n",
       "}\n",
       "#T_b0982_row0_col7, #T_b0982_row2_col6, #T_b0982_row11_col12 {\n",
       "  background-color: #5a78e4;\n",
       "  color: #f1f1f1;\n",
       "}\n",
       "#T_b0982_row0_col8, #T_b0982_row11_col6, #T_b0982_row11_col7 {\n",
       "  background-color: #7699f6;\n",
       "  color: #f1f1f1;\n",
       "}\n",
       "#T_b0982_row0_col9, #T_b0982_row9_col3 {\n",
       "  background-color: #98b9ff;\n",
       "  color: #000000;\n",
       "}\n",
       "#T_b0982_row0_col10, #T_b0982_row3_col9 {\n",
       "  background-color: #8caffe;\n",
       "  color: #000000;\n",
       "}\n",
       "#T_b0982_row0_col11, #T_b0982_row4_col6, #T_b0982_row12_col4 {\n",
       "  background-color: #536edd;\n",
       "  color: #f1f1f1;\n",
       "}\n",
       "#T_b0982_row0_col12, #T_b0982_row5_col9, #T_b0982_row7_col9 {\n",
       "  background-color: #90b2fe;\n",
       "  color: #000000;\n",
       "}\n",
       "#T_b0982_row0_col13 {\n",
       "  background-color: #6a8bef;\n",
       "  color: #f1f1f1;\n",
       "}\n",
       "#T_b0982_row0_col14, #T_b0982_row6_col3, #T_b0982_row7_col14, #T_b0982_row8_col12, #T_b0982_row12_col1, #T_b0982_row12_col3 {\n",
       "  background-color: #7b9ff9;\n",
       "  color: #f1f1f1;\n",
       "}\n",
       "#T_b0982_row0_col15, #T_b0982_row5_col7, #T_b0982_row7_col6, #T_b0982_row9_col1, #T_b0982_row10_col2 {\n",
       "  background-color: #7da0f9;\n",
       "  color: #f1f1f1;\n",
       "}\n",
       "#T_b0982_row1_col0, #T_b0982_row4_col9, #T_b0982_row5_col4, #T_b0982_row14_col0, #T_b0982_row15_col0 {\n",
       "  background-color: #4b64d5;\n",
       "  color: #f1f1f1;\n",
       "}\n",
       "#T_b0982_row1_col2 {\n",
       "  background-color: #f7a98b;\n",
       "  color: #000000;\n",
       "}\n",
       "#T_b0982_row1_col3, #T_b0982_row3_col1, #T_b0982_row3_col2, #T_b0982_row4_col10, #T_b0982_row5_col13, #T_b0982_row5_col14, #T_b0982_row5_col15, #T_b0982_row10_col4, #T_b0982_row10_col6, #T_b0982_row12_col6, #T_b0982_row13_col0, #T_b0982_row13_col12, #T_b0982_row15_col5, #T_b0982_row15_col7, #T_b0982_row15_col8, #T_b0982_row15_col9, #T_b0982_row15_col11 {\n",
       "  background-color: #3b4cc0;\n",
       "  color: #f1f1f1;\n",
       "}\n",
       "#T_b0982_row1_col4, #T_b0982_row8_col3, #T_b0982_row10_col3 {\n",
       "  background-color: #8fb1fe;\n",
       "  color: #000000;\n",
       "}\n",
       "#T_b0982_row1_col5, #T_b0982_row4_col3, #T_b0982_row10_col14, #T_b0982_row12_col8 {\n",
       "  background-color: #6c8ff1;\n",
       "  color: #f1f1f1;\n",
       "}\n",
       "#T_b0982_row1_col6, #T_b0982_row2_col8, #T_b0982_row6_col9, #T_b0982_row15_col3 {\n",
       "  background-color: #5b7ae5;\n",
       "  color: #f1f1f1;\n",
       "}\n",
       "#T_b0982_row1_col7, #T_b0982_row12_col7 {\n",
       "  background-color: #5673e0;\n",
       "  color: #f1f1f1;\n",
       "}\n",
       "#T_b0982_row1_col8, #T_b0982_row13_col3, #T_b0982_row14_col3 {\n",
       "  background-color: #5572df;\n",
       "  color: #f1f1f1;\n",
       "}\n",
       "#T_b0982_row1_col9, #T_b0982_row3_col13, #T_b0982_row3_col14, #T_b0982_row7_col11, #T_b0982_row8_col6, #T_b0982_row10_col13, #T_b0982_row14_col6 {\n",
       "  background-color: #6f92f3;\n",
       "  color: #f1f1f1;\n",
       "}\n",
       "#T_b0982_row1_col10, #T_b0982_row2_col5, #T_b0982_row6_col8 {\n",
       "  background-color: #6e90f2;\n",
       "  color: #f1f1f1;\n",
       "}\n",
       "#T_b0982_row1_col11 {\n",
       "  background-color: #5875e1;\n",
       "  color: #f1f1f1;\n",
       "}\n",
       "#T_b0982_row1_col12, #T_b0982_row7_col4 {\n",
       "  background-color: #5f7fe8;\n",
       "  color: #f1f1f1;\n",
       "}\n",
       "#T_b0982_row1_col13, #T_b0982_row4_col13 {\n",
       "  background-color: #d4dbe6;\n",
       "  color: #000000;\n",
       "}\n",
       "#T_b0982_row1_col14 {\n",
       "  background-color: #d5dbe5;\n",
       "  color: #000000;\n",
       "}\n",
       "#T_b0982_row1_col15 {\n",
       "  background-color: #d1dae9;\n",
       "  color: #000000;\n",
       "}\n",
       "#T_b0982_row2_col0, #T_b0982_row2_col3, #T_b0982_row3_col11 {\n",
       "  background-color: #485fd1;\n",
       "  color: #f1f1f1;\n",
       "}\n",
       "#T_b0982_row2_col1 {\n",
       "  background-color: #f6a586;\n",
       "  color: #000000;\n",
       "}\n",
       "#T_b0982_row2_col4, #T_b0982_row8_col1, #T_b0982_row10_col7, #T_b0982_row12_col15 {\n",
       "  background-color: #81a4fb;\n",
       "  color: #f1f1f1;\n",
       "}\n",
       "#T_b0982_row2_col7, #T_b0982_row8_col4 {\n",
       "  background-color: #5e7de7;\n",
       "  color: #f1f1f1;\n",
       "}\n",
       "#T_b0982_row2_col10, #T_b0982_row7_col3, #T_b0982_row7_col13, #T_b0982_row9_col7, #T_b0982_row11_col2 {\n",
       "  background-color: #7ea1fa;\n",
       "  color: #f1f1f1;\n",
       "}\n",
       "#T_b0982_row2_col11, #T_b0982_row6_col0, #T_b0982_row11_col4, #T_b0982_row13_col6 {\n",
       "  background-color: #6384eb;\n",
       "  color: #f1f1f1;\n",
       "}\n",
       "#T_b0982_row2_col12, #T_b0982_row10_col15 {\n",
       "  background-color: #6b8df0;\n",
       "  color: #f1f1f1;\n",
       "}\n",
       "#T_b0982_row2_col13, #T_b0982_row2_col15 {\n",
       "  background-color: #cbd8ee;\n",
       "  color: #000000;\n",
       "}\n",
       "#T_b0982_row2_col14, #T_b0982_row10_col8 {\n",
       "  background-color: #ccd9ed;\n",
       "  color: #000000;\n",
       "}\n",
       "#T_b0982_row3_col0, #T_b0982_row4_col5, #T_b0982_row7_col2 {\n",
       "  background-color: #7396f5;\n",
       "  color: #f1f1f1;\n",
       "}\n",
       "#T_b0982_row3_col5, #T_b0982_row13_col2 {\n",
       "  background-color: #b1cbfc;\n",
       "  color: #000000;\n",
       "}\n",
       "#T_b0982_row3_col6, #T_b0982_row8_col11 {\n",
       "  background-color: #516ddb;\n",
       "  color: #f1f1f1;\n",
       "}\n",
       "#T_b0982_row3_col7, #T_b0982_row7_col12 {\n",
       "  background-color: #5d7ce6;\n",
       "  color: #f1f1f1;\n",
       "}\n",
       "#T_b0982_row3_col8, #T_b0982_row9_col13, #T_b0982_row9_col15 {\n",
       "  background-color: #6485ec;\n",
       "  color: #f1f1f1;\n",
       "}\n",
       "#T_b0982_row3_col10, #T_b0982_row6_col7, #T_b0982_row8_col13 {\n",
       "  background-color: #84a7fc;\n",
       "  color: #f1f1f1;\n",
       "}\n",
       "#T_b0982_row3_col15, #T_b0982_row6_col2, #T_b0982_row6_col11, #T_b0982_row12_col14 {\n",
       "  background-color: #779af7;\n",
       "  color: #f1f1f1;\n",
       "}\n",
       "#T_b0982_row4_col0, #T_b0982_row7_col0, #T_b0982_row9_col11, #T_b0982_row9_col14, #T_b0982_row11_col0, #T_b0982_row15_col6 {\n",
       "  background-color: #6788ee;\n",
       "  color: #f1f1f1;\n",
       "}\n",
       "#T_b0982_row4_col1, #T_b0982_row5_col3 {\n",
       "  background-color: #9abbff;\n",
       "  color: #000000;\n",
       "}\n",
       "#T_b0982_row4_col2, #T_b0982_row11_col1, #T_b0982_row11_col15 {\n",
       "  background-color: #80a3fa;\n",
       "  color: #f1f1f1;\n",
       "}\n",
       "#T_b0982_row4_col7, #T_b0982_row6_col12, #T_b0982_row13_col10, #T_b0982_row15_col12 {\n",
       "  background-color: #4961d2;\n",
       "  color: #f1f1f1;\n",
       "}\n",
       "#T_b0982_row4_col8, #T_b0982_row13_col9 {\n",
       "  background-color: #3d50c3;\n",
       "  color: #f1f1f1;\n",
       "}\n",
       "#T_b0982_row4_col11 {\n",
       "  background-color: #455cce;\n",
       "  color: #f1f1f1;\n",
       "}\n",
       "#T_b0982_row4_col12, #T_b0982_row13_col7 {\n",
       "  background-color: #4257c9;\n",
       "  color: #f1f1f1;\n",
       "}\n",
       "#T_b0982_row4_col14 {\n",
       "  background-color: #cfdaea;\n",
       "  color: #000000;\n",
       "}\n",
       "#T_b0982_row4_col15 {\n",
       "  background-color: #d3dbe7;\n",
       "  color: #000000;\n",
       "}\n",
       "#T_b0982_row5_col0, #T_b0982_row14_col1 {\n",
       "  background-color: #c6d6f1;\n",
       "  color: #000000;\n",
       "}\n",
       "#T_b0982_row5_col2, #T_b0982_row15_col10 {\n",
       "  background-color: #445acc;\n",
       "  color: #f1f1f1;\n",
       "}\n",
       "#T_b0982_row5_col6 {\n",
       "  background-color: #4358cb;\n",
       "  color: #f1f1f1;\n",
       "}\n",
       "#T_b0982_row5_col10, #T_b0982_row8_col0 {\n",
       "  background-color: #8badfd;\n",
       "  color: #000000;\n",
       "}\n",
       "#T_b0982_row6_col1 {\n",
       "  background-color: #85a8fc;\n",
       "  color: #f1f1f1;\n",
       "}\n",
       "#T_b0982_row6_col4, #T_b0982_row9_col2 {\n",
       "  background-color: #7295f4;\n",
       "  color: #f1f1f1;\n",
       "}\n",
       "#T_b0982_row6_col10 {\n",
       "  background-color: #5977e3;\n",
       "  color: #f1f1f1;\n",
       "}\n",
       "#T_b0982_row6_col13, #T_b0982_row8_col5, #T_b0982_row12_col9 {\n",
       "  background-color: #a3c2fe;\n",
       "  color: #000000;\n",
       "}\n",
       "#T_b0982_row6_col14, #T_b0982_row10_col5 {\n",
       "  background-color: #adc9fd;\n",
       "  color: #000000;\n",
       "}\n",
       "#T_b0982_row6_col15 {\n",
       "  background-color: #a7c5fe;\n",
       "  color: #000000;\n",
       "}\n",
       "#T_b0982_row7_col1, #T_b0982_row7_col15, #T_b0982_row8_col2, #T_b0982_row10_col1, #T_b0982_row10_col11 {\n",
       "  background-color: #799cf8;\n",
       "  color: #f1f1f1;\n",
       "}\n",
       "#T_b0982_row7_col5 {\n",
       "  background-color: #b3cdfb;\n",
       "  color: #000000;\n",
       "}\n",
       "#T_b0982_row7_col8, #T_b0982_row15_col1 {\n",
       "  background-color: #c0d4f5;\n",
       "  color: #000000;\n",
       "}\n",
       "#T_b0982_row7_col10, #T_b0982_row12_col0 {\n",
       "  background-color: #96b7ff;\n",
       "  color: #000000;\n",
       "}\n",
       "#T_b0982_row8_col7, #T_b0982_row13_col1 {\n",
       "  background-color: #c5d6f2;\n",
       "  color: #000000;\n",
       "}\n",
       "#T_b0982_row8_col9, #T_b0982_row14_col4 {\n",
       "  background-color: #b7cff9;\n",
       "  color: #000000;\n",
       "}\n",
       "#T_b0982_row8_col10 {\n",
       "  background-color: #dcdddd;\n",
       "  color: #000000;\n",
       "}\n",
       "#T_b0982_row8_col14, #T_b0982_row8_col15, #T_b0982_row10_col0, #T_b0982_row11_col9, #T_b0982_row11_col14 {\n",
       "  background-color: #82a6fb;\n",
       "  color: #f1f1f1;\n",
       "}\n",
       "#T_b0982_row9_col0, #T_b0982_row10_col12 {\n",
       "  background-color: #92b4fe;\n",
       "  color: #000000;\n",
       "}\n",
       "#T_b0982_row9_col4, #T_b0982_row11_col8 {\n",
       "  background-color: #4e68d8;\n",
       "  color: #f1f1f1;\n",
       "}\n",
       "#T_b0982_row9_col5, #T_b0982_row14_col2 {\n",
       "  background-color: #b2ccfb;\n",
       "  color: #000000;\n",
       "}\n",
       "#T_b0982_row9_col6, #T_b0982_row14_col12 {\n",
       "  background-color: #3f53c6;\n",
       "  color: #f1f1f1;\n",
       "}\n",
       "#T_b0982_row9_col8, #T_b0982_row11_col5, #T_b0982_row12_col10 {\n",
       "  background-color: #a1c0ff;\n",
       "  color: #000000;\n",
       "}\n",
       "#T_b0982_row9_col10 {\n",
       "  background-color: #f7b194;\n",
       "  color: #000000;\n",
       "}\n",
       "#T_b0982_row9_col12 {\n",
       "  background-color: #97b8ff;\n",
       "  color: #000000;\n",
       "}\n",
       "#T_b0982_row10_col9 {\n",
       "  background-color: #f7b396;\n",
       "  color: #000000;\n",
       "}\n",
       "#T_b0982_row11_col10 {\n",
       "  background-color: #94b6ff;\n",
       "  color: #000000;\n",
       "}\n",
       "#T_b0982_row11_col13 {\n",
       "  background-color: #89acfd;\n",
       "  color: #000000;\n",
       "}\n",
       "#T_b0982_row12_col2 {\n",
       "  background-color: #7a9df8;\n",
       "  color: #f1f1f1;\n",
       "}\n",
       "#T_b0982_row12_col5 {\n",
       "  background-color: #b6cefa;\n",
       "  color: #000000;\n",
       "}\n",
       "#T_b0982_row12_col11 {\n",
       "  background-color: #4c66d6;\n",
       "  color: #f1f1f1;\n",
       "}\n",
       "#T_b0982_row13_col4 {\n",
       "  background-color: #bed2f6;\n",
       "  color: #000000;\n",
       "}\n",
       "#T_b0982_row13_col5, #T_b0982_row14_col5, #T_b0982_row14_col8 {\n",
       "  background-color: #3c4ec2;\n",
       "  color: #f1f1f1;\n",
       "}\n",
       "#T_b0982_row13_col8, #T_b0982_row14_col7, #T_b0982_row14_col9, #T_b0982_row14_col11 {\n",
       "  background-color: #3e51c5;\n",
       "  color: #f1f1f1;\n",
       "}\n",
       "#T_b0982_row13_col11, #T_b0982_row14_col10 {\n",
       "  background-color: #465ecf;\n",
       "  color: #f1f1f1;\n",
       "}\n",
       "#T_b0982_row13_col14, #T_b0982_row14_col13 {\n",
       "  background-color: #d55042;\n",
       "  color: #f1f1f1;\n",
       "}\n",
       "#T_b0982_row13_col15 {\n",
       "  background-color: #dd5f4b;\n",
       "  color: #f1f1f1;\n",
       "}\n",
       "#T_b0982_row14_col15 {\n",
       "  background-color: #c83836;\n",
       "  color: #f1f1f1;\n",
       "}\n",
       "#T_b0982_row15_col2 {\n",
       "  background-color: #afcafc;\n",
       "  color: #000000;\n",
       "}\n",
       "#T_b0982_row15_col4 {\n",
       "  background-color: #bad0f8;\n",
       "  color: #000000;\n",
       "}\n",
       "#T_b0982_row15_col13 {\n",
       "  background-color: #de614d;\n",
       "  color: #f1f1f1;\n",
       "}\n",
       "#T_b0982_row15_col14 {\n",
       "  background-color: #ca3b37;\n",
       "  color: #f1f1f1;\n",
       "}\n",
       "</style>\n",
       "<table id=\"T_b0982_\">\n",
       "  <thead>\n",
       "    <tr>\n",
       "      <th class=\"blank level0\" >&nbsp;</th>\n",
       "      <th class=\"col_heading level0 col0\" >age</th>\n",
       "      <th class=\"col_heading level0 col1\" >Medu</th>\n",
       "      <th class=\"col_heading level0 col2\" >Fedu</th>\n",
       "      <th class=\"col_heading level0 col3\" >traveltime</th>\n",
       "      <th class=\"col_heading level0 col4\" >studytime</th>\n",
       "      <th class=\"col_heading level0 col5\" >failures</th>\n",
       "      <th class=\"col_heading level0 col6\" >famrel</th>\n",
       "      <th class=\"col_heading level0 col7\" >freetime</th>\n",
       "      <th class=\"col_heading level0 col8\" >goout</th>\n",
       "      <th class=\"col_heading level0 col9\" >Dalc</th>\n",
       "      <th class=\"col_heading level0 col10\" >Walc</th>\n",
       "      <th class=\"col_heading level0 col11\" >health</th>\n",
       "      <th class=\"col_heading level0 col12\" >absences</th>\n",
       "      <th class=\"col_heading level0 col13\" >G1</th>\n",
       "      <th class=\"col_heading level0 col14\" >G2</th>\n",
       "      <th class=\"col_heading level0 col15\" >G3</th>\n",
       "    </tr>\n",
       "  </thead>\n",
       "  <tbody>\n",
       "    <tr>\n",
       "      <th id=\"T_b0982_level0_row0\" class=\"row_heading level0 row0\" >age</th>\n",
       "      <td id=\"T_b0982_row0_col0\" class=\"data row0 col0\" >1.000000</td>\n",
       "      <td id=\"T_b0982_row0_col1\" class=\"data row0 col1\" >-0.107832</td>\n",
       "      <td id=\"T_b0982_row0_col2\" class=\"data row0 col2\" >-0.121050</td>\n",
       "      <td id=\"T_b0982_row0_col3\" class=\"data row0 col3\" >0.034490</td>\n",
       "      <td id=\"T_b0982_row0_col4\" class=\"data row0 col4\" >-0.008415</td>\n",
       "      <td id=\"T_b0982_row0_col5\" class=\"data row0 col5\" >0.319968</td>\n",
       "      <td id=\"T_b0982_row0_col6\" class=\"data row0 col6\" >-0.020559</td>\n",
       "      <td id=\"T_b0982_row0_col7\" class=\"data row0 col7\" >-0.004910</td>\n",
       "      <td id=\"T_b0982_row0_col8\" class=\"data row0 col8\" >0.112805</td>\n",
       "      <td id=\"T_b0982_row0_col9\" class=\"data row0 col9\" >0.134768</td>\n",
       "      <td id=\"T_b0982_row0_col10\" class=\"data row0 col10\" >0.086357</td>\n",
       "      <td id=\"T_b0982_row0_col11\" class=\"data row0 col11\" >-0.008750</td>\n",
       "      <td id=\"T_b0982_row0_col12\" class=\"data row0 col12\" >0.149998</td>\n",
       "      <td id=\"T_b0982_row0_col13\" class=\"data row0 col13\" >-0.174322</td>\n",
       "      <td id=\"T_b0982_row0_col14\" class=\"data row0 col14\" >-0.107119</td>\n",
       "      <td id=\"T_b0982_row0_col15\" class=\"data row0 col15\" >-0.106505</td>\n",
       "    </tr>\n",
       "    <tr>\n",
       "      <th id=\"T_b0982_level0_row1\" class=\"row_heading level0 row1\" >Medu</th>\n",
       "      <td id=\"T_b0982_row1_col0\" class=\"data row1 col0\" >-0.107832</td>\n",
       "      <td id=\"T_b0982_row1_col1\" class=\"data row1 col1\" >1.000000</td>\n",
       "      <td id=\"T_b0982_row1_col2\" class=\"data row1 col2\" >0.647477</td>\n",
       "      <td id=\"T_b0982_row1_col3\" class=\"data row1 col3\" >-0.265079</td>\n",
       "      <td id=\"T_b0982_row1_col4\" class=\"data row1 col4\" >0.097006</td>\n",
       "      <td id=\"T_b0982_row1_col5\" class=\"data row1 col5\" >-0.172210</td>\n",
       "      <td id=\"T_b0982_row1_col6\" class=\"data row1 col6\" >0.024421</td>\n",
       "      <td id=\"T_b0982_row1_col7\" class=\"data row1 col7\" >-0.019686</td>\n",
       "      <td id=\"T_b0982_row1_col8\" class=\"data row1 col8\" >0.009536</td>\n",
       "      <td id=\"T_b0982_row1_col9\" class=\"data row1 col9\" >-0.007018</td>\n",
       "      <td id=\"T_b0982_row1_col10\" class=\"data row1 col10\" >-0.019766</td>\n",
       "      <td id=\"T_b0982_row1_col11\" class=\"data row1 col11\" >0.004614</td>\n",
       "      <td id=\"T_b0982_row1_col12\" class=\"data row1 col12\" >-0.008577</td>\n",
       "      <td id=\"T_b0982_row1_col13\" class=\"data row1 col13\" >0.260472</td>\n",
       "      <td id=\"T_b0982_row1_col14\" class=\"data row1 col14\" >0.264035</td>\n",
       "      <td id=\"T_b0982_row1_col15\" class=\"data row1 col15\" >0.240151</td>\n",
       "    </tr>\n",
       "    <tr>\n",
       "      <th id=\"T_b0982_level0_row2\" class=\"row_heading level0 row2\" >Fedu</th>\n",
       "      <td id=\"T_b0982_row2_col0\" class=\"data row2 col0\" >-0.121050</td>\n",
       "      <td id=\"T_b0982_row2_col1\" class=\"data row2 col1\" >0.647477</td>\n",
       "      <td id=\"T_b0982_row2_col2\" class=\"data row2 col2\" >1.000000</td>\n",
       "      <td id=\"T_b0982_row2_col3\" class=\"data row2 col3\" >-0.208288</td>\n",
       "      <td id=\"T_b0982_row2_col4\" class=\"data row2 col4\" >0.050400</td>\n",
       "      <td id=\"T_b0982_row2_col5\" class=\"data row2 col5\" >-0.165915</td>\n",
       "      <td id=\"T_b0982_row2_col6\" class=\"data row2 col6\" >0.020256</td>\n",
       "      <td id=\"T_b0982_row2_col7\" class=\"data row2 col7\" >0.006841</td>\n",
       "      <td id=\"T_b0982_row2_col8\" class=\"data row2 col8\" >0.027690</td>\n",
       "      <td id=\"T_b0982_row2_col9\" class=\"data row2 col9\" >0.000061</td>\n",
       "      <td id=\"T_b0982_row2_col10\" class=\"data row2 col10\" >0.038445</td>\n",
       "      <td id=\"T_b0982_row2_col11\" class=\"data row2 col11\" >0.044910</td>\n",
       "      <td id=\"T_b0982_row2_col12\" class=\"data row2 col12\" >0.029859</td>\n",
       "      <td id=\"T_b0982_row2_col13\" class=\"data row2 col13\" >0.217501</td>\n",
       "      <td id=\"T_b0982_row2_col14\" class=\"data row2 col14\" >0.225139</td>\n",
       "      <td id=\"T_b0982_row2_col15\" class=\"data row2 col15\" >0.211800</td>\n",
       "    </tr>\n",
       "    <tr>\n",
       "      <th id=\"T_b0982_level0_row3\" class=\"row_heading level0 row3\" >traveltime</th>\n",
       "      <td id=\"T_b0982_row3_col0\" class=\"data row3 col0\" >0.034490</td>\n",
       "      <td id=\"T_b0982_row3_col1\" class=\"data row3 col1\" >-0.265079</td>\n",
       "      <td id=\"T_b0982_row3_col2\" class=\"data row3 col2\" >-0.208288</td>\n",
       "      <td id=\"T_b0982_row3_col3\" class=\"data row3 col3\" >1.000000</td>\n",
       "      <td id=\"T_b0982_row3_col4\" class=\"data row3 col4\" >-0.063154</td>\n",
       "      <td id=\"T_b0982_row3_col5\" class=\"data row3 col5\" >0.097730</td>\n",
       "      <td id=\"T_b0982_row3_col6\" class=\"data row3 col6\" >-0.009521</td>\n",
       "      <td id=\"T_b0982_row3_col7\" class=\"data row3 col7\" >0.000937</td>\n",
       "      <td id=\"T_b0982_row3_col8\" class=\"data row3 col8\" >0.057454</td>\n",
       "      <td id=\"T_b0982_row3_col9\" class=\"data row3 col9\" >0.092824</td>\n",
       "      <td id=\"T_b0982_row3_col10\" class=\"data row3 col10\" >0.057007</td>\n",
       "      <td id=\"T_b0982_row3_col11\" class=\"data row3 col11\" >-0.048261</td>\n",
       "      <td id=\"T_b0982_row3_col12\" class=\"data row3 col12\" >-0.008149</td>\n",
       "      <td id=\"T_b0982_row3_col13\" class=\"data row3 col13\" >-0.154120</td>\n",
       "      <td id=\"T_b0982_row3_col14\" class=\"data row3 col14\" >-0.154489</td>\n",
       "      <td id=\"T_b0982_row3_col15\" class=\"data row3 col15\" >-0.127173</td>\n",
       "    </tr>\n",
       "    <tr>\n",
       "      <th id=\"T_b0982_level0_row4\" class=\"row_heading level0 row4\" >studytime</th>\n",
       "      <td id=\"T_b0982_row4_col0\" class=\"data row4 col0\" >-0.008415</td>\n",
       "      <td id=\"T_b0982_row4_col1\" class=\"data row4 col1\" >0.097006</td>\n",
       "      <td id=\"T_b0982_row4_col2\" class=\"data row4 col2\" >0.050400</td>\n",
       "      <td id=\"T_b0982_row4_col3\" class=\"data row4 col3\" >-0.063154</td>\n",
       "      <td id=\"T_b0982_row4_col4\" class=\"data row4 col4\" >1.000000</td>\n",
       "      <td id=\"T_b0982_row4_col5\" class=\"data row4 col5\" >-0.147441</td>\n",
       "      <td id=\"T_b0982_row4_col6\" class=\"data row4 col6\" >-0.004127</td>\n",
       "      <td id=\"T_b0982_row4_col7\" class=\"data row4 col7\" >-0.068829</td>\n",
       "      <td id=\"T_b0982_row4_col8\" class=\"data row4 col8\" >-0.075442</td>\n",
       "      <td id=\"T_b0982_row4_col9\" class=\"data row4 col9\" >-0.137585</td>\n",
       "      <td id=\"T_b0982_row4_col10\" class=\"data row4 col10\" >-0.214925</td>\n",
       "      <td id=\"T_b0982_row4_col11\" class=\"data row4 col11\" >-0.056433</td>\n",
       "      <td id=\"T_b0982_row4_col12\" class=\"data row4 col12\" >-0.118389</td>\n",
       "      <td id=\"T_b0982_row4_col13\" class=\"data row4 col13\" >0.260875</td>\n",
       "      <td id=\"T_b0982_row4_col14\" class=\"data row4 col14\" >0.240498</td>\n",
       "      <td id=\"T_b0982_row4_col15\" class=\"data row4 col15\" >0.249789</td>\n",
       "    </tr>\n",
       "    <tr>\n",
       "      <th id=\"T_b0982_level0_row5\" class=\"row_heading level0 row5\" >failures</th>\n",
       "      <td id=\"T_b0982_row5_col0\" class=\"data row5 col0\" >0.319968</td>\n",
       "      <td id=\"T_b0982_row5_col1\" class=\"data row5 col1\" >-0.172210</td>\n",
       "      <td id=\"T_b0982_row5_col2\" class=\"data row5 col2\" >-0.165915</td>\n",
       "      <td id=\"T_b0982_row5_col3\" class=\"data row5 col3\" >0.097730</td>\n",
       "      <td id=\"T_b0982_row5_col4\" class=\"data row5 col4\" >-0.147441</td>\n",
       "      <td id=\"T_b0982_row5_col5\" class=\"data row5 col5\" >1.000000</td>\n",
       "      <td id=\"T_b0982_row5_col6\" class=\"data row5 col6\" >-0.062645</td>\n",
       "      <td id=\"T_b0982_row5_col7\" class=\"data row5 col7\" >0.108995</td>\n",
       "      <td id=\"T_b0982_row5_col8\" class=\"data row5 col8\" >0.045078</td>\n",
       "      <td id=\"T_b0982_row5_col9\" class=\"data row5 col9\" >0.105949</td>\n",
       "      <td id=\"T_b0982_row5_col10\" class=\"data row5 col10\" >0.082266</td>\n",
       "      <td id=\"T_b0982_row5_col11\" class=\"data row5 col11\" >0.035588</td>\n",
       "      <td id=\"T_b0982_row5_col12\" class=\"data row5 col12\" >0.122779</td>\n",
       "      <td id=\"T_b0982_row5_col13\" class=\"data row5 col13\" >-0.384210</td>\n",
       "      <td id=\"T_b0982_row5_col14\" class=\"data row5 col14\" >-0.385782</td>\n",
       "      <td id=\"T_b0982_row5_col15\" class=\"data row5 col15\" >-0.393316</td>\n",
       "    </tr>\n",
       "    <tr>\n",
       "      <th id=\"T_b0982_level0_row6\" class=\"row_heading level0 row6\" >famrel</th>\n",
       "      <td id=\"T_b0982_row6_col0\" class=\"data row6 col0\" >-0.020559</td>\n",
       "      <td id=\"T_b0982_row6_col1\" class=\"data row6 col1\" >0.024421</td>\n",
       "      <td id=\"T_b0982_row6_col2\" class=\"data row6 col2\" >0.020256</td>\n",
       "      <td id=\"T_b0982_row6_col3\" class=\"data row6 col3\" >-0.009521</td>\n",
       "      <td id=\"T_b0982_row6_col4\" class=\"data row6 col4\" >-0.004127</td>\n",
       "      <td id=\"T_b0982_row6_col5\" class=\"data row6 col5\" >-0.062645</td>\n",
       "      <td id=\"T_b0982_row6_col6\" class=\"data row6 col6\" >1.000000</td>\n",
       "      <td id=\"T_b0982_row6_col7\" class=\"data row6 col7\" >0.129216</td>\n",
       "      <td id=\"T_b0982_row6_col8\" class=\"data row6 col8\" >0.089707</td>\n",
       "      <td id=\"T_b0982_row6_col9\" class=\"data row6 col9\" >-0.075767</td>\n",
       "      <td id=\"T_b0982_row6_col10\" class=\"data row6 col10\" >-0.093511</td>\n",
       "      <td id=\"T_b0982_row6_col11\" class=\"data row6 col11\" >0.109559</td>\n",
       "      <td id=\"T_b0982_row6_col12\" class=\"data row6 col12\" >-0.089534</td>\n",
       "      <td id=\"T_b0982_row6_col13\" class=\"data row6 col13\" >0.048795</td>\n",
       "      <td id=\"T_b0982_row6_col14\" class=\"data row6 col14\" >0.089588</td>\n",
       "      <td id=\"T_b0982_row6_col15\" class=\"data row6 col15\" >0.063361</td>\n",
       "    </tr>\n",
       "    <tr>\n",
       "      <th id=\"T_b0982_level0_row7\" class=\"row_heading level0 row7\" >freetime</th>\n",
       "      <td id=\"T_b0982_row7_col0\" class=\"data row7 col0\" >-0.004910</td>\n",
       "      <td id=\"T_b0982_row7_col1\" class=\"data row7 col1\" >-0.019686</td>\n",
       "      <td id=\"T_b0982_row7_col2\" class=\"data row7 col2\" >0.006841</td>\n",
       "      <td id=\"T_b0982_row7_col3\" class=\"data row7 col3\" >0.000937</td>\n",
       "      <td id=\"T_b0982_row7_col4\" class=\"data row7 col4\" >-0.068829</td>\n",
       "      <td id=\"T_b0982_row7_col5\" class=\"data row7 col5\" >0.108995</td>\n",
       "      <td id=\"T_b0982_row7_col6\" class=\"data row7 col6\" >0.129216</td>\n",
       "      <td id=\"T_b0982_row7_col7\" class=\"data row7 col7\" >1.000000</td>\n",
       "      <td id=\"T_b0982_row7_col8\" class=\"data row7 col8\" >0.346352</td>\n",
       "      <td id=\"T_b0982_row7_col9\" class=\"data row7 col9\" >0.109904</td>\n",
       "      <td id=\"T_b0982_row7_col10\" class=\"data row7 col10\" >0.120244</td>\n",
       "      <td id=\"T_b0982_row7_col11\" class=\"data row7 col11\" >0.084526</td>\n",
       "      <td id=\"T_b0982_row7_col12\" class=\"data row7 col12\" >-0.018716</td>\n",
       "      <td id=\"T_b0982_row7_col13\" class=\"data row7 col13\" >-0.094497</td>\n",
       "      <td id=\"T_b0982_row7_col14\" class=\"data row7 col14\" >-0.106678</td>\n",
       "      <td id=\"T_b0982_row7_col15\" class=\"data row7 col15\" >-0.122705</td>\n",
       "    </tr>\n",
       "    <tr>\n",
       "      <th id=\"T_b0982_level0_row8\" class=\"row_heading level0 row8\" >goout</th>\n",
       "      <td id=\"T_b0982_row8_col0\" class=\"data row8 col0\" >0.112805</td>\n",
       "      <td id=\"T_b0982_row8_col1\" class=\"data row8 col1\" >0.009536</td>\n",
       "      <td id=\"T_b0982_row8_col2\" class=\"data row8 col2\" >0.027690</td>\n",
       "      <td id=\"T_b0982_row8_col3\" class=\"data row8 col3\" >0.057454</td>\n",
       "      <td id=\"T_b0982_row8_col4\" class=\"data row8 col4\" >-0.075442</td>\n",
       "      <td id=\"T_b0982_row8_col5\" class=\"data row8 col5\" >0.045078</td>\n",
       "      <td id=\"T_b0982_row8_col6\" class=\"data row8 col6\" >0.089707</td>\n",
       "      <td id=\"T_b0982_row8_col7\" class=\"data row8 col7\" >0.346352</td>\n",
       "      <td id=\"T_b0982_row8_col8\" class=\"data row8 col8\" >1.000000</td>\n",
       "      <td id=\"T_b0982_row8_col9\" class=\"data row8 col9\" >0.245126</td>\n",
       "      <td id=\"T_b0982_row8_col10\" class=\"data row8 col10\" >0.388680</td>\n",
       "      <td id=\"T_b0982_row8_col11\" class=\"data row8 col11\" >-0.015741</td>\n",
       "      <td id=\"T_b0982_row8_col12\" class=\"data row8 col12\" >0.085374</td>\n",
       "      <td id=\"T_b0982_row8_col13\" class=\"data row8 col13\" >-0.074053</td>\n",
       "      <td id=\"T_b0982_row8_col14\" class=\"data row8 col14\" >-0.079469</td>\n",
       "      <td id=\"T_b0982_row8_col15\" class=\"data row8 col15\" >-0.087641</td>\n",
       "    </tr>\n",
       "    <tr>\n",
       "      <th id=\"T_b0982_level0_row9\" class=\"row_heading level0 row9\" >Dalc</th>\n",
       "      <td id=\"T_b0982_row9_col0\" class=\"data row9 col0\" >0.134768</td>\n",
       "      <td id=\"T_b0982_row9_col1\" class=\"data row9 col1\" >-0.007018</td>\n",
       "      <td id=\"T_b0982_row9_col2\" class=\"data row9 col2\" >0.000061</td>\n",
       "      <td id=\"T_b0982_row9_col3\" class=\"data row9 col3\" >0.092824</td>\n",
       "      <td id=\"T_b0982_row9_col4\" class=\"data row9 col4\" >-0.137585</td>\n",
       "      <td id=\"T_b0982_row9_col5\" class=\"data row9 col5\" >0.105949</td>\n",
       "      <td id=\"T_b0982_row9_col6\" class=\"data row9 col6\" >-0.075767</td>\n",
       "      <td id=\"T_b0982_row9_col7\" class=\"data row9 col7\" >0.109904</td>\n",
       "      <td id=\"T_b0982_row9_col8\" class=\"data row9 col8\" >0.245126</td>\n",
       "      <td id=\"T_b0982_row9_col9\" class=\"data row9 col9\" >1.000000</td>\n",
       "      <td id=\"T_b0982_row9_col10\" class=\"data row9 col10\" >0.616561</td>\n",
       "      <td id=\"T_b0982_row9_col11\" class=\"data row9 col11\" >0.059067</td>\n",
       "      <td id=\"T_b0982_row9_col12\" class=\"data row9 col12\" >0.172952</td>\n",
       "      <td id=\"T_b0982_row9_col13\" class=\"data row9 col13\" >-0.195171</td>\n",
       "      <td id=\"T_b0982_row9_col14\" class=\"data row9 col14\" >-0.189480</td>\n",
       "      <td id=\"T_b0982_row9_col15\" class=\"data row9 col15\" >-0.204719</td>\n",
       "    </tr>\n",
       "    <tr>\n",
       "      <th id=\"T_b0982_level0_row10\" class=\"row_heading level0 row10\" >Walc</th>\n",
       "      <td id=\"T_b0982_row10_col0\" class=\"data row10 col0\" >0.086357</td>\n",
       "      <td id=\"T_b0982_row10_col1\" class=\"data row10 col1\" >-0.019766</td>\n",
       "      <td id=\"T_b0982_row10_col2\" class=\"data row10 col2\" >0.038445</td>\n",
       "      <td id=\"T_b0982_row10_col3\" class=\"data row10 col3\" >0.057007</td>\n",
       "      <td id=\"T_b0982_row10_col4\" class=\"data row10 col4\" >-0.214925</td>\n",
       "      <td id=\"T_b0982_row10_col5\" class=\"data row10 col5\" >0.082266</td>\n",
       "      <td id=\"T_b0982_row10_col6\" class=\"data row10 col6\" >-0.093511</td>\n",
       "      <td id=\"T_b0982_row10_col7\" class=\"data row10 col7\" >0.120244</td>\n",
       "      <td id=\"T_b0982_row10_col8\" class=\"data row10 col8\" >0.388680</td>\n",
       "      <td id=\"T_b0982_row10_col9\" class=\"data row10 col9\" >0.616561</td>\n",
       "      <td id=\"T_b0982_row10_col10\" class=\"data row10 col10\" >1.000000</td>\n",
       "      <td id=\"T_b0982_row10_col11\" class=\"data row10 col11\" >0.114988</td>\n",
       "      <td id=\"T_b0982_row10_col12\" class=\"data row10 col12\" >0.156373</td>\n",
       "      <td id=\"T_b0982_row10_col13\" class=\"data row10 col13\" >-0.155649</td>\n",
       "      <td id=\"T_b0982_row10_col14\" class=\"data row10 col14\" >-0.164852</td>\n",
       "      <td id=\"T_b0982_row10_col15\" class=\"data row10 col15\" >-0.176619</td>\n",
       "    </tr>\n",
       "    <tr>\n",
       "      <th id=\"T_b0982_level0_row11\" class=\"row_heading level0 row11\" >health</th>\n",
       "      <td id=\"T_b0982_row11_col0\" class=\"data row11 col0\" >-0.008750</td>\n",
       "      <td id=\"T_b0982_row11_col1\" class=\"data row11 col1\" >0.004614</td>\n",
       "      <td id=\"T_b0982_row11_col2\" class=\"data row11 col2\" >0.044910</td>\n",
       "      <td id=\"T_b0982_row11_col3\" class=\"data row11 col3\" >-0.048261</td>\n",
       "      <td id=\"T_b0982_row11_col4\" class=\"data row11 col4\" >-0.056433</td>\n",
       "      <td id=\"T_b0982_row11_col5\" class=\"data row11 col5\" >0.035588</td>\n",
       "      <td id=\"T_b0982_row11_col6\" class=\"data row11 col6\" >0.109559</td>\n",
       "      <td id=\"T_b0982_row11_col7\" class=\"data row11 col7\" >0.084526</td>\n",
       "      <td id=\"T_b0982_row11_col8\" class=\"data row11 col8\" >-0.015741</td>\n",
       "      <td id=\"T_b0982_row11_col9\" class=\"data row11 col9\" >0.059067</td>\n",
       "      <td id=\"T_b0982_row11_col10\" class=\"data row11 col10\" >0.114988</td>\n",
       "      <td id=\"T_b0982_row11_col11\" class=\"data row11 col11\" >1.000000</td>\n",
       "      <td id=\"T_b0982_row11_col12\" class=\"data row11 col12\" >-0.030235</td>\n",
       "      <td id=\"T_b0982_row11_col13\" class=\"data row11 col13\" >-0.051647</td>\n",
       "      <td id=\"T_b0982_row11_col14\" class=\"data row11 col14\" >-0.082179</td>\n",
       "      <td id=\"T_b0982_row11_col15\" class=\"data row11 col15\" >-0.098851</td>\n",
       "    </tr>\n",
       "    <tr>\n",
       "      <th id=\"T_b0982_level0_row12\" class=\"row_heading level0 row12\" >absences</th>\n",
       "      <td id=\"T_b0982_row12_col0\" class=\"data row12 col0\" >0.149998</td>\n",
       "      <td id=\"T_b0982_row12_col1\" class=\"data row12 col1\" >-0.008577</td>\n",
       "      <td id=\"T_b0982_row12_col2\" class=\"data row12 col2\" >0.029859</td>\n",
       "      <td id=\"T_b0982_row12_col3\" class=\"data row12 col3\" >-0.008149</td>\n",
       "      <td id=\"T_b0982_row12_col4\" class=\"data row12 col4\" >-0.118389</td>\n",
       "      <td id=\"T_b0982_row12_col5\" class=\"data row12 col5\" >0.122779</td>\n",
       "      <td id=\"T_b0982_row12_col6\" class=\"data row12 col6\" >-0.089534</td>\n",
       "      <td id=\"T_b0982_row12_col7\" class=\"data row12 col7\" >-0.018716</td>\n",
       "      <td id=\"T_b0982_row12_col8\" class=\"data row12 col8\" >0.085374</td>\n",
       "      <td id=\"T_b0982_row12_col9\" class=\"data row12 col9\" >0.172952</td>\n",
       "      <td id=\"T_b0982_row12_col10\" class=\"data row12 col10\" >0.156373</td>\n",
       "      <td id=\"T_b0982_row12_col11\" class=\"data row12 col11\" >-0.030235</td>\n",
       "      <td id=\"T_b0982_row12_col12\" class=\"data row12 col12\" >1.000000</td>\n",
       "      <td id=\"T_b0982_row12_col13\" class=\"data row12 col13\" >-0.147149</td>\n",
       "      <td id=\"T_b0982_row12_col14\" class=\"data row12 col14\" >-0.124745</td>\n",
       "      <td id=\"T_b0982_row12_col15\" class=\"data row12 col15\" >-0.091379</td>\n",
       "    </tr>\n",
       "    <tr>\n",
       "      <th id=\"T_b0982_level0_row13\" class=\"row_heading level0 row13\" >G1</th>\n",
       "      <td id=\"T_b0982_row13_col0\" class=\"data row13 col0\" >-0.174322</td>\n",
       "      <td id=\"T_b0982_row13_col1\" class=\"data row13 col1\" >0.260472</td>\n",
       "      <td id=\"T_b0982_row13_col2\" class=\"data row13 col2\" >0.217501</td>\n",
       "      <td id=\"T_b0982_row13_col3\" class=\"data row13 col3\" >-0.154120</td>\n",
       "      <td id=\"T_b0982_row13_col4\" class=\"data row13 col4\" >0.260875</td>\n",
       "      <td id=\"T_b0982_row13_col5\" class=\"data row13 col5\" >-0.384210</td>\n",
       "      <td id=\"T_b0982_row13_col6\" class=\"data row13 col6\" >0.048795</td>\n",
       "      <td id=\"T_b0982_row13_col7\" class=\"data row13 col7\" >-0.094497</td>\n",
       "      <td id=\"T_b0982_row13_col8\" class=\"data row13 col8\" >-0.074053</td>\n",
       "      <td id=\"T_b0982_row13_col9\" class=\"data row13 col9\" >-0.195171</td>\n",
       "      <td id=\"T_b0982_row13_col10\" class=\"data row13 col10\" >-0.155649</td>\n",
       "      <td id=\"T_b0982_row13_col11\" class=\"data row13 col11\" >-0.051647</td>\n",
       "      <td id=\"T_b0982_row13_col12\" class=\"data row13 col12\" >-0.147149</td>\n",
       "      <td id=\"T_b0982_row13_col13\" class=\"data row13 col13\" >1.000000</td>\n",
       "      <td id=\"T_b0982_row13_col14\" class=\"data row13 col14\" >0.864982</td>\n",
       "      <td id=\"T_b0982_row13_col15\" class=\"data row13 col15\" >0.826387</td>\n",
       "    </tr>\n",
       "    <tr>\n",
       "      <th id=\"T_b0982_level0_row14\" class=\"row_heading level0 row14\" >G2</th>\n",
       "      <td id=\"T_b0982_row14_col0\" class=\"data row14 col0\" >-0.107119</td>\n",
       "      <td id=\"T_b0982_row14_col1\" class=\"data row14 col1\" >0.264035</td>\n",
       "      <td id=\"T_b0982_row14_col2\" class=\"data row14 col2\" >0.225139</td>\n",
       "      <td id=\"T_b0982_row14_col3\" class=\"data row14 col3\" >-0.154489</td>\n",
       "      <td id=\"T_b0982_row14_col4\" class=\"data row14 col4\" >0.240498</td>\n",
       "      <td id=\"T_b0982_row14_col5\" class=\"data row14 col5\" >-0.385782</td>\n",
       "      <td id=\"T_b0982_row14_col6\" class=\"data row14 col6\" >0.089588</td>\n",
       "      <td id=\"T_b0982_row14_col7\" class=\"data row14 col7\" >-0.106678</td>\n",
       "      <td id=\"T_b0982_row14_col8\" class=\"data row14 col8\" >-0.079469</td>\n",
       "      <td id=\"T_b0982_row14_col9\" class=\"data row14 col9\" >-0.189480</td>\n",
       "      <td id=\"T_b0982_row14_col10\" class=\"data row14 col10\" >-0.164852</td>\n",
       "      <td id=\"T_b0982_row14_col11\" class=\"data row14 col11\" >-0.082179</td>\n",
       "      <td id=\"T_b0982_row14_col12\" class=\"data row14 col12\" >-0.124745</td>\n",
       "      <td id=\"T_b0982_row14_col13\" class=\"data row14 col13\" >0.864982</td>\n",
       "      <td id=\"T_b0982_row14_col14\" class=\"data row14 col14\" >1.000000</td>\n",
       "      <td id=\"T_b0982_row14_col15\" class=\"data row14 col15\" >0.918548</td>\n",
       "    </tr>\n",
       "    <tr>\n",
       "      <th id=\"T_b0982_level0_row15\" class=\"row_heading level0 row15\" >G3</th>\n",
       "      <td id=\"T_b0982_row15_col0\" class=\"data row15 col0\" >-0.106505</td>\n",
       "      <td id=\"T_b0982_row15_col1\" class=\"data row15 col1\" >0.240151</td>\n",
       "      <td id=\"T_b0982_row15_col2\" class=\"data row15 col2\" >0.211800</td>\n",
       "      <td id=\"T_b0982_row15_col3\" class=\"data row15 col3\" >-0.127173</td>\n",
       "      <td id=\"T_b0982_row15_col4\" class=\"data row15 col4\" >0.249789</td>\n",
       "      <td id=\"T_b0982_row15_col5\" class=\"data row15 col5\" >-0.393316</td>\n",
       "      <td id=\"T_b0982_row15_col6\" class=\"data row15 col6\" >0.063361</td>\n",
       "      <td id=\"T_b0982_row15_col7\" class=\"data row15 col7\" >-0.122705</td>\n",
       "      <td id=\"T_b0982_row15_col8\" class=\"data row15 col8\" >-0.087641</td>\n",
       "      <td id=\"T_b0982_row15_col9\" class=\"data row15 col9\" >-0.204719</td>\n",
       "      <td id=\"T_b0982_row15_col10\" class=\"data row15 col10\" >-0.176619</td>\n",
       "      <td id=\"T_b0982_row15_col11\" class=\"data row15 col11\" >-0.098851</td>\n",
       "      <td id=\"T_b0982_row15_col12\" class=\"data row15 col12\" >-0.091379</td>\n",
       "      <td id=\"T_b0982_row15_col13\" class=\"data row15 col13\" >0.826387</td>\n",
       "      <td id=\"T_b0982_row15_col14\" class=\"data row15 col14\" >0.918548</td>\n",
       "      <td id=\"T_b0982_row15_col15\" class=\"data row15 col15\" >1.000000</td>\n",
       "    </tr>\n",
       "  </tbody>\n",
       "</table>\n"
      ],
      "text/plain": [
       "<pandas.io.formats.style.Styler at 0x28497b7a5e0>"
      ]
     },
     "execution_count": 10,
     "metadata": {},
     "output_type": "execute_result"
    }
   ],
   "source": [
    "# plot the correlation between the numerical columns of the math dataframe\n",
    "df_por.corr().style.background_gradient(cmap='coolwarm')"
   ]
  },
  {
   "cell_type": "code",
   "execution_count": 11,
   "metadata": {
    "scrolled": true
   },
   "outputs": [
    {
     "data": {
      "image/png": "[encoded data removed]",
      "text/plain": [
       "<Figure size 1440x1440 with 2 Axes>"
      ]
     },
     "metadata": {
      "needs_background": "light"
     },
     "output_type": "display_data"
    }
   ],
   "source": [
    "# plot correlation between the numerical columns of the math dataframe using seaborn\n",
    "plt.figure(figsize=(20, 20))\n",
    "sns.heatmap(df_por.corr(), annot=True)\n",
    "plt.show()"
   ]
  },
  {
   "cell_type": "markdown",
   "metadata": {},
   "source": [
    "#scatter plot between G1, G2 and G3"
   ]
  },
  {
   "cell_type": "code",
   "execution_count": 12,
   "metadata": {
    "scrolled": false
   },
   "outputs": [
    {
     "data": {
      "image/png": "[encoded data removed]",
      "text/plain": [
       "<Figure size 1008x360 with 2 Axes>"
      ]
     },
     "metadata": {
      "needs_background": "light"
     },
     "output_type": "display_data"
    }
   ],
   "source": [
    "fig, axes = plt.subplots(1, 2, figsize=(14,5))\n",
    "axes[0].scatter(data=df_por, x='G1', y='G3')\n",
    "axes[0].set_title('G3 versus G1')\n",
    "axes[0].set_xlabel('G1')\n",
    "axes[0].set_ylabel('G3')\n",
    "axes[1].scatter(data=df_por, x='G2', y='G3')\n",
    "axes[1].set_title('G3 versus G2')\n",
    "axes[1].set_xlabel('G2')\n",
    "axes[1].set_ylabel('G3')\n",
    "plt.show()"
   ]
  },
  {
   "cell_type": "code",
   "execution_count": 13,
   "metadata": {},
   "outputs": [
    {
     "data": {
      "image/png": "[encoded data removed]",
      "text/plain": [
       "<Figure size 432x288 with 1 Axes>"
      ]
     },
     "metadata": {
      "needs_background": "light"
     },
     "output_type": "display_data"
    }
   ],
   "source": [
    "plt.scatter(data=df_por, x='G1', y='G2')\n",
    "plt.title('G2 vs G1')\n",
    "plt.xlabel('G1')\n",
    "plt.ylabel('G2')\n",
    "\n",
    "plt.show()"
   ]
  },
  {
   "cell_type": "markdown",
   "metadata": {},
   "source": [
    "### Feature Engineering"
   ]
  },
  {
   "cell_type": "markdown",
   "metadata": {},
   "source": [
    "#combining the three scores into one score due to the strong correlation between G1, G2, G3"
   ]
  },
  {
   "cell_type": "code",
   "execution_count": 14,
   "metadata": {},
   "outputs": [],
   "source": [
    "df_por['Total Score'] = df_por['G1'] + df_por['G2'] + df_por['G3']\n",
    "# drop por_G1, por_G2, por_G3\n",
    "df_por.drop(['G1', 'G2', 'G3'], axis=1, inplace=True)"
   ]
  },
  {
   "cell_type": "code",
   "execution_count": 15,
   "metadata": {
    "scrolled": false
   },
   "outputs": [
    {
     "data": {
      "text/plain": [
       "<AxesSubplot:ylabel='Frequency'>"
      ]
     },
     "execution_count": 15,
     "metadata": {},
     "output_type": "execute_result"
    },
    {
     "data": {
      "image/png": "[encoded data removed]",
      "text/plain": [
       "<Figure size 432x288 with 1 Axes>"
      ]
     },
     "metadata": {
      "needs_background": "light"
     },
     "output_type": "display_data"
    }
   ],
   "source": [
    "df_por['Total Score'].plot.hist()"
   ]
  },
  {
   "cell_type": "markdown",
   "metadata": {},
   "source": [
    "#combining the Walc and Dalc into 1 due to high correlation"
   ]
  },
  {
   "cell_type": "code",
   "execution_count": 16,
   "metadata": {},
   "outputs": [],
   "source": [
    "# combine walc and dalc into one column\n",
    "df_por['total_alc'] = df_por['Walc'] + df_por['Dalc']\n",
    "# drop walc and dalc\n",
    "df_por.drop(['Walc', 'Dalc'], axis=1, inplace=True)"
   ]
  },
  {
   "cell_type": "code",
   "execution_count": 17,
   "metadata": {},
   "outputs": [
    {
     "data": {
      "text/plain": [
       "<AxesSubplot:ylabel='Frequency'>"
      ]
     },
     "execution_count": 17,
     "metadata": {},
     "output_type": "execute_result"
    },
    {
     "data": {
      "image/png": "[encoded data removed]",
      "text/plain": [
       "<Figure size 432x288 with 1 Axes>"
      ]
     },
     "metadata": {
      "needs_background": "light"
     },
     "output_type": "display_data"
    }
   ],
   "source": [
    "df_por['total_alc'].plot.hist()"
   ]
  },
  {
   "cell_type": "code",
   "execution_count": 18,
   "metadata": {},
   "outputs": [
    {
     "data": {
      "text/html": [
       "<div>\n",
       "<style scoped>\n",
       "    .dataframe tbody tr th:only-of-type {\n",
       "        vertical-align: middle;\n",
       "    }\n",
       "\n",
       "    .dataframe tbody tr th {\n",
       "        vertical-align: top;\n",
       "    }\n",
       "\n",
       "    .dataframe thead th {\n",
       "        text-align: right;\n",
       "    }\n",
       "</style>\n",
       "<table border=\"1\" class=\"dataframe\">\n",
       "  <thead>\n",
       "    <tr style=\"text-align: right;\">\n",
       "      <th></th>\n",
       "      <th>school</th>\n",
       "      <th>sex</th>\n",
       "      <th>age</th>\n",
       "      <th>address</th>\n",
       "      <th>famsize</th>\n",
       "      <th>Pstatus</th>\n",
       "      <th>Medu</th>\n",
       "      <th>Fedu</th>\n",
       "      <th>Mjob</th>\n",
       "      <th>Fjob</th>\n",
       "      <th>...</th>\n",
       "      <th>higher</th>\n",
       "      <th>internet</th>\n",
       "      <th>romantic</th>\n",
       "      <th>famrel</th>\n",
       "      <th>freetime</th>\n",
       "      <th>goout</th>\n",
       "      <th>health</th>\n",
       "      <th>absences</th>\n",
       "      <th>Total Score</th>\n",
       "      <th>total_alc</th>\n",
       "    </tr>\n",
       "  </thead>\n",
       "  <tbody>\n",
       "    <tr>\n",
       "      <th>0</th>\n",
       "      <td>GP</td>\n",
       "      <td>F</td>\n",
       "      <td>18</td>\n",
       "      <td>U</td>\n",
       "      <td>GT3</td>\n",
       "      <td>A</td>\n",
       "      <td>4</td>\n",
       "      <td>4</td>\n",
       "      <td>at_home</td>\n",
       "      <td>teacher</td>\n",
       "      <td>...</td>\n",
       "      <td>yes</td>\n",
       "      <td>no</td>\n",
       "      <td>no</td>\n",
       "      <td>4</td>\n",
       "      <td>3</td>\n",
       "      <td>4</td>\n",
       "      <td>3</td>\n",
       "      <td>4</td>\n",
       "      <td>22</td>\n",
       "      <td>2</td>\n",
       "    </tr>\n",
       "    <tr>\n",
       "      <th>1</th>\n",
       "      <td>GP</td>\n",
       "      <td>F</td>\n",
       "      <td>17</td>\n",
       "      <td>U</td>\n",
       "      <td>GT3</td>\n",
       "      <td>T</td>\n",
       "      <td>1</td>\n",
       "      <td>1</td>\n",
       "      <td>at_home</td>\n",
       "      <td>other</td>\n",
       "      <td>...</td>\n",
       "      <td>yes</td>\n",
       "      <td>yes</td>\n",
       "      <td>no</td>\n",
       "      <td>5</td>\n",
       "      <td>3</td>\n",
       "      <td>3</td>\n",
       "      <td>3</td>\n",
       "      <td>2</td>\n",
       "      <td>31</td>\n",
       "      <td>2</td>\n",
       "    </tr>\n",
       "    <tr>\n",
       "      <th>2</th>\n",
       "      <td>GP</td>\n",
       "      <td>F</td>\n",
       "      <td>15</td>\n",
       "      <td>U</td>\n",
       "      <td>LE3</td>\n",
       "      <td>T</td>\n",
       "      <td>1</td>\n",
       "      <td>1</td>\n",
       "      <td>at_home</td>\n",
       "      <td>other</td>\n",
       "      <td>...</td>\n",
       "      <td>yes</td>\n",
       "      <td>yes</td>\n",
       "      <td>no</td>\n",
       "      <td>4</td>\n",
       "      <td>3</td>\n",
       "      <td>2</td>\n",
       "      <td>3</td>\n",
       "      <td>6</td>\n",
       "      <td>37</td>\n",
       "      <td>5</td>\n",
       "    </tr>\n",
       "    <tr>\n",
       "      <th>3</th>\n",
       "      <td>GP</td>\n",
       "      <td>F</td>\n",
       "      <td>15</td>\n",
       "      <td>U</td>\n",
       "      <td>GT3</td>\n",
       "      <td>T</td>\n",
       "      <td>4</td>\n",
       "      <td>2</td>\n",
       "      <td>health</td>\n",
       "      <td>services</td>\n",
       "      <td>...</td>\n",
       "      <td>yes</td>\n",
       "      <td>yes</td>\n",
       "      <td>yes</td>\n",
       "      <td>3</td>\n",
       "      <td>2</td>\n",
       "      <td>2</td>\n",
       "      <td>5</td>\n",
       "      <td>0</td>\n",
       "      <td>42</td>\n",
       "      <td>2</td>\n",
       "    </tr>\n",
       "    <tr>\n",
       "      <th>4</th>\n",
       "      <td>GP</td>\n",
       "      <td>F</td>\n",
       "      <td>16</td>\n",
       "      <td>U</td>\n",
       "      <td>GT3</td>\n",
       "      <td>T</td>\n",
       "      <td>3</td>\n",
       "      <td>3</td>\n",
       "      <td>other</td>\n",
       "      <td>other</td>\n",
       "      <td>...</td>\n",
       "      <td>yes</td>\n",
       "      <td>no</td>\n",
       "      <td>no</td>\n",
       "      <td>4</td>\n",
       "      <td>3</td>\n",
       "      <td>2</td>\n",
       "      <td>5</td>\n",
       "      <td>0</td>\n",
       "      <td>37</td>\n",
       "      <td>3</td>\n",
       "    </tr>\n",
       "  </tbody>\n",
       "</table>\n",
       "<p>5 rows × 30 columns</p>\n",
       "</div>"
      ],
      "text/plain": [
       "  school sex  age address famsize Pstatus  Medu  Fedu     Mjob      Fjob  ...  \\\n",
       "0     GP   F   18       U     GT3       A     4     4  at_home   teacher  ...   \n",
       "1     GP   F   17       U     GT3       T     1     1  at_home     other  ...   \n",
       "2     GP   F   15       U     LE3       T     1     1  at_home     other  ...   \n",
       "3     GP   F   15       U     GT3       T     4     2   health  services  ...   \n",
       "4     GP   F   16       U     GT3       T     3     3    other     other  ...   \n",
       "\n",
       "  higher internet  romantic  famrel  freetime goout health absences  \\\n",
       "0    yes       no        no       4         3     4      3        4   \n",
       "1    yes      yes        no       5         3     3      3        2   \n",
       "2    yes      yes        no       4         3     2      3        6   \n",
       "3    yes      yes       yes       3         2     2      5        0   \n",
       "4    yes       no        no       4         3     2      5        0   \n",
       "\n",
       "  Total Score total_alc  \n",
       "0          22         2  \n",
       "1          31         2  \n",
       "2          37         5  \n",
       "3          42         2  \n",
       "4          37         3  \n",
       "\n",
       "[5 rows x 30 columns]"
      ]
     },
     "execution_count": 18,
     "metadata": {},
     "output_type": "execute_result"
    }
   ],
   "source": [
    "# checking feature engineering\n",
    "df_por.head()"
   ]
  },
  {
   "cell_type": "markdown",
   "metadata": {},
   "source": [
    "#### Data Preprocessing"
   ]
  },
  {
   "cell_type": "code",
   "execution_count": 19,
   "metadata": {},
   "outputs": [
    {
     "data": {
      "text/plain": [
       "(649, 30)"
      ]
     },
     "execution_count": 19,
     "metadata": {},
     "output_type": "execute_result"
    }
   ],
   "source": [
    "df_por.shape"
   ]
  },
  {
   "cell_type": "code",
   "execution_count": 20,
   "metadata": {},
   "outputs": [],
   "source": [
    "# find the outliers in the numerical columns of the math dataframe by using IQR\n",
    "for column in df_por.columns[:-1]:\n",
    "    # check if the column is numerical\n",
    "    if df_por[column].dtype == np.dtype('int64') or df_por[column].dtype == np.dtype('float64'):\n",
    "        # find the IQR\n",
    "        Q1 = df_por[column].quantile(0.25)\n",
    "        Q3 = df_por[column].quantile(0.75)\n",
    "        IQR = Q3 - Q1\n",
    "        # drop the outliers\n",
    "        df_por.drop(df_por[column][~((df_por[column] >= Q1 - 1.5 * IQR) & (df_por[column] <= Q3 + 1.5 * IQR))].index, inplace=True)\n"
   ]
  },
  {
   "cell_type": "code",
   "execution_count": 21,
   "metadata": {
    "scrolled": true
   },
   "outputs": [
    {
     "data": {
      "text/plain": [
       "(406, 30)"
      ]
     },
     "execution_count": 21,
     "metadata": {},
     "output_type": "execute_result"
    }
   ],
   "source": [
    "df_por.shape"
   ]
  },
  {
   "cell_type": "code",
   "execution_count": 22,
   "metadata": {},
   "outputs": [
    {
     "data": {
      "text/html": [
       "<div>\n",
       "<style scoped>\n",
       "    .dataframe tbody tr th:only-of-type {\n",
       "        vertical-align: middle;\n",
       "    }\n",
       "\n",
       "    .dataframe tbody tr th {\n",
       "        vertical-align: top;\n",
       "    }\n",
       "\n",
       "    .dataframe thead th {\n",
       "        text-align: right;\n",
       "    }\n",
       "</style>\n",
       "<table border=\"1\" class=\"dataframe\">\n",
       "  <thead>\n",
       "    <tr style=\"text-align: right;\">\n",
       "      <th></th>\n",
       "      <th>school</th>\n",
       "      <th>sex</th>\n",
       "      <th>age</th>\n",
       "      <th>address</th>\n",
       "      <th>famsize</th>\n",
       "      <th>Pstatus</th>\n",
       "      <th>Medu</th>\n",
       "      <th>Fedu</th>\n",
       "      <th>Mjob</th>\n",
       "      <th>Fjob</th>\n",
       "      <th>...</th>\n",
       "      <th>higher</th>\n",
       "      <th>internet</th>\n",
       "      <th>romantic</th>\n",
       "      <th>famrel</th>\n",
       "      <th>freetime</th>\n",
       "      <th>goout</th>\n",
       "      <th>health</th>\n",
       "      <th>absences</th>\n",
       "      <th>Total Score</th>\n",
       "      <th>total_alc</th>\n",
       "    </tr>\n",
       "  </thead>\n",
       "  <tbody>\n",
       "    <tr>\n",
       "      <th>0</th>\n",
       "      <td>GP</td>\n",
       "      <td>F</td>\n",
       "      <td>18</td>\n",
       "      <td>U</td>\n",
       "      <td>GT3</td>\n",
       "      <td>A</td>\n",
       "      <td>4</td>\n",
       "      <td>4</td>\n",
       "      <td>at_home</td>\n",
       "      <td>teacher</td>\n",
       "      <td>...</td>\n",
       "      <td>yes</td>\n",
       "      <td>no</td>\n",
       "      <td>no</td>\n",
       "      <td>4</td>\n",
       "      <td>3</td>\n",
       "      <td>4</td>\n",
       "      <td>3</td>\n",
       "      <td>4</td>\n",
       "      <td>22</td>\n",
       "      <td>2</td>\n",
       "    </tr>\n",
       "    <tr>\n",
       "      <th>1</th>\n",
       "      <td>GP</td>\n",
       "      <td>F</td>\n",
       "      <td>17</td>\n",
       "      <td>U</td>\n",
       "      <td>GT3</td>\n",
       "      <td>T</td>\n",
       "      <td>1</td>\n",
       "      <td>1</td>\n",
       "      <td>at_home</td>\n",
       "      <td>other</td>\n",
       "      <td>...</td>\n",
       "      <td>yes</td>\n",
       "      <td>yes</td>\n",
       "      <td>no</td>\n",
       "      <td>5</td>\n",
       "      <td>3</td>\n",
       "      <td>3</td>\n",
       "      <td>3</td>\n",
       "      <td>2</td>\n",
       "      <td>31</td>\n",
       "      <td>2</td>\n",
       "    </tr>\n",
       "    <tr>\n",
       "      <th>2</th>\n",
       "      <td>GP</td>\n",
       "      <td>F</td>\n",
       "      <td>15</td>\n",
       "      <td>U</td>\n",
       "      <td>LE3</td>\n",
       "      <td>T</td>\n",
       "      <td>1</td>\n",
       "      <td>1</td>\n",
       "      <td>at_home</td>\n",
       "      <td>other</td>\n",
       "      <td>...</td>\n",
       "      <td>yes</td>\n",
       "      <td>yes</td>\n",
       "      <td>no</td>\n",
       "      <td>4</td>\n",
       "      <td>3</td>\n",
       "      <td>2</td>\n",
       "      <td>3</td>\n",
       "      <td>6</td>\n",
       "      <td>37</td>\n",
       "      <td>5</td>\n",
       "    </tr>\n",
       "    <tr>\n",
       "      <th>3</th>\n",
       "      <td>GP</td>\n",
       "      <td>F</td>\n",
       "      <td>15</td>\n",
       "      <td>U</td>\n",
       "      <td>GT3</td>\n",
       "      <td>T</td>\n",
       "      <td>4</td>\n",
       "      <td>2</td>\n",
       "      <td>health</td>\n",
       "      <td>services</td>\n",
       "      <td>...</td>\n",
       "      <td>yes</td>\n",
       "      <td>yes</td>\n",
       "      <td>yes</td>\n",
       "      <td>3</td>\n",
       "      <td>2</td>\n",
       "      <td>2</td>\n",
       "      <td>5</td>\n",
       "      <td>0</td>\n",
       "      <td>42</td>\n",
       "      <td>2</td>\n",
       "    </tr>\n",
       "    <tr>\n",
       "      <th>4</th>\n",
       "      <td>GP</td>\n",
       "      <td>F</td>\n",
       "      <td>16</td>\n",
       "      <td>U</td>\n",
       "      <td>GT3</td>\n",
       "      <td>T</td>\n",
       "      <td>3</td>\n",
       "      <td>3</td>\n",
       "      <td>other</td>\n",
       "      <td>other</td>\n",
       "      <td>...</td>\n",
       "      <td>yes</td>\n",
       "      <td>no</td>\n",
       "      <td>no</td>\n",
       "      <td>4</td>\n",
       "      <td>3</td>\n",
       "      <td>2</td>\n",
       "      <td>5</td>\n",
       "      <td>0</td>\n",
       "      <td>37</td>\n",
       "      <td>3</td>\n",
       "    </tr>\n",
       "  </tbody>\n",
       "</table>\n",
       "<p>5 rows × 30 columns</p>\n",
       "</div>"
      ],
      "text/plain": [
       "  school sex  age address famsize Pstatus  Medu  Fedu     Mjob      Fjob  ...  \\\n",
       "0     GP   F   18       U     GT3       A     4     4  at_home   teacher  ...   \n",
       "1     GP   F   17       U     GT3       T     1     1  at_home     other  ...   \n",
       "2     GP   F   15       U     LE3       T     1     1  at_home     other  ...   \n",
       "3     GP   F   15       U     GT3       T     4     2   health  services  ...   \n",
       "4     GP   F   16       U     GT3       T     3     3    other     other  ...   \n",
       "\n",
       "  higher internet  romantic  famrel  freetime goout health absences  \\\n",
       "0    yes       no        no       4         3     4      3        4   \n",
       "1    yes      yes        no       5         3     3      3        2   \n",
       "2    yes      yes        no       4         3     2      3        6   \n",
       "3    yes      yes       yes       3         2     2      5        0   \n",
       "4    yes       no        no       4         3     2      5        0   \n",
       "\n",
       "  Total Score total_alc  \n",
       "0          22         2  \n",
       "1          31         2  \n",
       "2          37         5  \n",
       "3          42         2  \n",
       "4          37         3  \n",
       "\n",
       "[5 rows x 30 columns]"
      ]
     },
     "execution_count": 22,
     "metadata": {},
     "output_type": "execute_result"
    }
   ],
   "source": [
    "df_por.head()"
   ]
  },
  {
   "cell_type": "code",
   "execution_count": 23,
   "metadata": {},
   "outputs": [],
   "source": [
    "# Scaling numerical columns\n",
    "scaler = MinMaxScaler()\n",
    "for column in df_por.columns[:-1]: #  last column as it is the target\n",
    "    if df_por[column].dtype == np.dtype('int64') or df_por[column].dtype == np.dtype('float64'):\n",
    "        df_por[column] = scaler.fit_transform(df_por[column].values.reshape(-1, 1))\n",
    "        "
   ]
  },
  {
   "cell_type": "code",
   "execution_count": 24,
   "metadata": {},
   "outputs": [
    {
     "data": {
      "text/html": [
       "<div>\n",
       "<style scoped>\n",
       "    .dataframe tbody tr th:only-of-type {\n",
       "        vertical-align: middle;\n",
       "    }\n",
       "\n",
       "    .dataframe tbody tr th {\n",
       "        vertical-align: top;\n",
       "    }\n",
       "\n",
       "    .dataframe thead th {\n",
       "        text-align: right;\n",
       "    }\n",
       "</style>\n",
       "<table border=\"1\" class=\"dataframe\">\n",
       "  <thead>\n",
       "    <tr style=\"text-align: right;\">\n",
       "      <th></th>\n",
       "      <th>school</th>\n",
       "      <th>sex</th>\n",
       "      <th>age</th>\n",
       "      <th>address</th>\n",
       "      <th>famsize</th>\n",
       "      <th>Pstatus</th>\n",
       "      <th>Medu</th>\n",
       "      <th>Fedu</th>\n",
       "      <th>Mjob</th>\n",
       "      <th>Fjob</th>\n",
       "      <th>...</th>\n",
       "      <th>higher</th>\n",
       "      <th>internet</th>\n",
       "      <th>romantic</th>\n",
       "      <th>famrel</th>\n",
       "      <th>freetime</th>\n",
       "      <th>goout</th>\n",
       "      <th>health</th>\n",
       "      <th>absences</th>\n",
       "      <th>Total Score</th>\n",
       "      <th>total_alc</th>\n",
       "    </tr>\n",
       "  </thead>\n",
       "  <tbody>\n",
       "    <tr>\n",
       "      <th>0</th>\n",
       "      <td>GP</td>\n",
       "      <td>F</td>\n",
       "      <td>0.6</td>\n",
       "      <td>U</td>\n",
       "      <td>GT3</td>\n",
       "      <td>A</td>\n",
       "      <td>1.00</td>\n",
       "      <td>1.00</td>\n",
       "      <td>at_home</td>\n",
       "      <td>teacher</td>\n",
       "      <td>...</td>\n",
       "      <td>yes</td>\n",
       "      <td>no</td>\n",
       "      <td>no</td>\n",
       "      <td>0.5</td>\n",
       "      <td>0.333333</td>\n",
       "      <td>0.75</td>\n",
       "      <td>0.5</td>\n",
       "      <td>0.4</td>\n",
       "      <td>0.00000</td>\n",
       "      <td>2</td>\n",
       "    </tr>\n",
       "    <tr>\n",
       "      <th>1</th>\n",
       "      <td>GP</td>\n",
       "      <td>F</td>\n",
       "      <td>0.4</td>\n",
       "      <td>U</td>\n",
       "      <td>GT3</td>\n",
       "      <td>T</td>\n",
       "      <td>0.25</td>\n",
       "      <td>0.25</td>\n",
       "      <td>at_home</td>\n",
       "      <td>other</td>\n",
       "      <td>...</td>\n",
       "      <td>yes</td>\n",
       "      <td>yes</td>\n",
       "      <td>no</td>\n",
       "      <td>1.0</td>\n",
       "      <td>0.333333</td>\n",
       "      <td>0.50</td>\n",
       "      <td>0.5</td>\n",
       "      <td>0.2</td>\n",
       "      <td>0.28125</td>\n",
       "      <td>2</td>\n",
       "    </tr>\n",
       "    <tr>\n",
       "      <th>2</th>\n",
       "      <td>GP</td>\n",
       "      <td>F</td>\n",
       "      <td>0.0</td>\n",
       "      <td>U</td>\n",
       "      <td>LE3</td>\n",
       "      <td>T</td>\n",
       "      <td>0.25</td>\n",
       "      <td>0.25</td>\n",
       "      <td>at_home</td>\n",
       "      <td>other</td>\n",
       "      <td>...</td>\n",
       "      <td>yes</td>\n",
       "      <td>yes</td>\n",
       "      <td>no</td>\n",
       "      <td>0.5</td>\n",
       "      <td>0.333333</td>\n",
       "      <td>0.25</td>\n",
       "      <td>0.5</td>\n",
       "      <td>0.6</td>\n",
       "      <td>0.46875</td>\n",
       "      <td>5</td>\n",
       "    </tr>\n",
       "    <tr>\n",
       "      <th>3</th>\n",
       "      <td>GP</td>\n",
       "      <td>F</td>\n",
       "      <td>0.0</td>\n",
       "      <td>U</td>\n",
       "      <td>GT3</td>\n",
       "      <td>T</td>\n",
       "      <td>1.00</td>\n",
       "      <td>0.50</td>\n",
       "      <td>health</td>\n",
       "      <td>services</td>\n",
       "      <td>...</td>\n",
       "      <td>yes</td>\n",
       "      <td>yes</td>\n",
       "      <td>yes</td>\n",
       "      <td>0.0</td>\n",
       "      <td>0.000000</td>\n",
       "      <td>0.25</td>\n",
       "      <td>1.0</td>\n",
       "      <td>0.0</td>\n",
       "      <td>0.62500</td>\n",
       "      <td>2</td>\n",
       "    </tr>\n",
       "    <tr>\n",
       "      <th>4</th>\n",
       "      <td>GP</td>\n",
       "      <td>F</td>\n",
       "      <td>0.2</td>\n",
       "      <td>U</td>\n",
       "      <td>GT3</td>\n",
       "      <td>T</td>\n",
       "      <td>0.75</td>\n",
       "      <td>0.75</td>\n",
       "      <td>other</td>\n",
       "      <td>other</td>\n",
       "      <td>...</td>\n",
       "      <td>yes</td>\n",
       "      <td>no</td>\n",
       "      <td>no</td>\n",
       "      <td>0.5</td>\n",
       "      <td>0.333333</td>\n",
       "      <td>0.25</td>\n",
       "      <td>1.0</td>\n",
       "      <td>0.0</td>\n",
       "      <td>0.46875</td>\n",
       "      <td>3</td>\n",
       "    </tr>\n",
       "  </tbody>\n",
       "</table>\n",
       "<p>5 rows × 30 columns</p>\n",
       "</div>"
      ],
      "text/plain": [
       "  school sex  age address famsize Pstatus  Medu  Fedu     Mjob      Fjob  ...  \\\n",
       "0     GP   F  0.6       U     GT3       A  1.00  1.00  at_home   teacher  ...   \n",
       "1     GP   F  0.4       U     GT3       T  0.25  0.25  at_home     other  ...   \n",
       "2     GP   F  0.0       U     LE3       T  0.25  0.25  at_home     other  ...   \n",
       "3     GP   F  0.0       U     GT3       T  1.00  0.50   health  services  ...   \n",
       "4     GP   F  0.2       U     GT3       T  0.75  0.75    other     other  ...   \n",
       "\n",
       "  higher internet  romantic  famrel  freetime goout health absences  \\\n",
       "0    yes       no        no     0.5  0.333333  0.75    0.5      0.4   \n",
       "1    yes      yes        no     1.0  0.333333  0.50    0.5      0.2   \n",
       "2    yes      yes        no     0.5  0.333333  0.25    0.5      0.6   \n",
       "3    yes      yes       yes     0.0  0.000000  0.25    1.0      0.0   \n",
       "4    yes       no        no     0.5  0.333333  0.25    1.0      0.0   \n",
       "\n",
       "  Total Score total_alc  \n",
       "0     0.00000         2  \n",
       "1     0.28125         2  \n",
       "2     0.46875         5  \n",
       "3     0.62500         2  \n",
       "4     0.46875         3  \n",
       "\n",
       "[5 rows x 30 columns]"
      ]
     },
     "execution_count": 24,
     "metadata": {},
     "output_type": "execute_result"
    }
   ],
   "source": [
    "df_por.head()"
   ]
  },
  {
   "cell_type": "code",
   "execution_count": 25,
   "metadata": {},
   "outputs": [],
   "source": [
    "# Coverting categorical columns inro numerical representation\n",
    "for column in df_por.columns[:-1]: # exclude the last column because it is the target\n",
    "    if df_por[column].dtype == np.dtype('object'):\n",
    "        df_por[column] = df_por[column].astype('category')\n",
    "        df_por[column] = df_por[column].cat.codes"
   ]
  },
  {
   "cell_type": "code",
   "execution_count": 26,
   "metadata": {},
   "outputs": [
    {
     "data": {
      "text/html": [
       "<div>\n",
       "<style scoped>\n",
       "    .dataframe tbody tr th:only-of-type {\n",
       "        vertical-align: middle;\n",
       "    }\n",
       "\n",
       "    .dataframe tbody tr th {\n",
       "        vertical-align: top;\n",
       "    }\n",
       "\n",
       "    .dataframe thead th {\n",
       "        text-align: right;\n",
       "    }\n",
       "</style>\n",
       "<table border=\"1\" class=\"dataframe\">\n",
       "  <thead>\n",
       "    <tr style=\"text-align: right;\">\n",
       "      <th></th>\n",
       "      <th>school</th>\n",
       "      <th>sex</th>\n",
       "      <th>age</th>\n",
       "      <th>address</th>\n",
       "      <th>famsize</th>\n",
       "      <th>Pstatus</th>\n",
       "      <th>Medu</th>\n",
       "      <th>Fedu</th>\n",
       "      <th>Mjob</th>\n",
       "      <th>Fjob</th>\n",
       "      <th>...</th>\n",
       "      <th>higher</th>\n",
       "      <th>internet</th>\n",
       "      <th>romantic</th>\n",
       "      <th>famrel</th>\n",
       "      <th>freetime</th>\n",
       "      <th>goout</th>\n",
       "      <th>health</th>\n",
       "      <th>absences</th>\n",
       "      <th>Total Score</th>\n",
       "      <th>total_alc</th>\n",
       "    </tr>\n",
       "  </thead>\n",
       "  <tbody>\n",
       "    <tr>\n",
       "      <th>0</th>\n",
       "      <td>0</td>\n",
       "      <td>0</td>\n",
       "      <td>0.6</td>\n",
       "      <td>1</td>\n",
       "      <td>0</td>\n",
       "      <td>0</td>\n",
       "      <td>1.00</td>\n",
       "      <td>1.00</td>\n",
       "      <td>0</td>\n",
       "      <td>4</td>\n",
       "      <td>...</td>\n",
       "      <td>1</td>\n",
       "      <td>0</td>\n",
       "      <td>0</td>\n",
       "      <td>0.5</td>\n",
       "      <td>0.333333</td>\n",
       "      <td>0.75</td>\n",
       "      <td>0.5</td>\n",
       "      <td>0.4</td>\n",
       "      <td>0.00000</td>\n",
       "      <td>2</td>\n",
       "    </tr>\n",
       "    <tr>\n",
       "      <th>1</th>\n",
       "      <td>0</td>\n",
       "      <td>0</td>\n",
       "      <td>0.4</td>\n",
       "      <td>1</td>\n",
       "      <td>0</td>\n",
       "      <td>1</td>\n",
       "      <td>0.25</td>\n",
       "      <td>0.25</td>\n",
       "      <td>0</td>\n",
       "      <td>2</td>\n",
       "      <td>...</td>\n",
       "      <td>1</td>\n",
       "      <td>1</td>\n",
       "      <td>0</td>\n",
       "      <td>1.0</td>\n",
       "      <td>0.333333</td>\n",
       "      <td>0.50</td>\n",
       "      <td>0.5</td>\n",
       "      <td>0.2</td>\n",
       "      <td>0.28125</td>\n",
       "      <td>2</td>\n",
       "    </tr>\n",
       "    <tr>\n",
       "      <th>2</th>\n",
       "      <td>0</td>\n",
       "      <td>0</td>\n",
       "      <td>0.0</td>\n",
       "      <td>1</td>\n",
       "      <td>1</td>\n",
       "      <td>1</td>\n",
       "      <td>0.25</td>\n",
       "      <td>0.25</td>\n",
       "      <td>0</td>\n",
       "      <td>2</td>\n",
       "      <td>...</td>\n",
       "      <td>1</td>\n",
       "      <td>1</td>\n",
       "      <td>0</td>\n",
       "      <td>0.5</td>\n",
       "      <td>0.333333</td>\n",
       "      <td>0.25</td>\n",
       "      <td>0.5</td>\n",
       "      <td>0.6</td>\n",
       "      <td>0.46875</td>\n",
       "      <td>5</td>\n",
       "    </tr>\n",
       "    <tr>\n",
       "      <th>3</th>\n",
       "      <td>0</td>\n",
       "      <td>0</td>\n",
       "      <td>0.0</td>\n",
       "      <td>1</td>\n",
       "      <td>0</td>\n",
       "      <td>1</td>\n",
       "      <td>1.00</td>\n",
       "      <td>0.50</td>\n",
       "      <td>1</td>\n",
       "      <td>3</td>\n",
       "      <td>...</td>\n",
       "      <td>1</td>\n",
       "      <td>1</td>\n",
       "      <td>1</td>\n",
       "      <td>0.0</td>\n",
       "      <td>0.000000</td>\n",
       "      <td>0.25</td>\n",
       "      <td>1.0</td>\n",
       "      <td>0.0</td>\n",
       "      <td>0.62500</td>\n",
       "      <td>2</td>\n",
       "    </tr>\n",
       "    <tr>\n",
       "      <th>4</th>\n",
       "      <td>0</td>\n",
       "      <td>0</td>\n",
       "      <td>0.2</td>\n",
       "      <td>1</td>\n",
       "      <td>0</td>\n",
       "      <td>1</td>\n",
       "      <td>0.75</td>\n",
       "      <td>0.75</td>\n",
       "      <td>2</td>\n",
       "      <td>2</td>\n",
       "      <td>...</td>\n",
       "      <td>1</td>\n",
       "      <td>0</td>\n",
       "      <td>0</td>\n",
       "      <td>0.5</td>\n",
       "      <td>0.333333</td>\n",
       "      <td>0.25</td>\n",
       "      <td>1.0</td>\n",
       "      <td>0.0</td>\n",
       "      <td>0.46875</td>\n",
       "      <td>3</td>\n",
       "    </tr>\n",
       "  </tbody>\n",
       "</table>\n",
       "<p>5 rows × 30 columns</p>\n",
       "</div>"
      ],
      "text/plain": [
       "   school  sex  age  address  famsize  Pstatus  Medu  Fedu  Mjob  Fjob  ...  \\\n",
       "0       0    0  0.6        1        0        0  1.00  1.00     0     4  ...   \n",
       "1       0    0  0.4        1        0        1  0.25  0.25     0     2  ...   \n",
       "2       0    0  0.0        1        1        1  0.25  0.25     0     2  ...   \n",
       "3       0    0  0.0        1        0        1  1.00  0.50     1     3  ...   \n",
       "4       0    0  0.2        1        0        1  0.75  0.75     2     2  ...   \n",
       "\n",
       "   higher  internet  romantic  famrel  freetime  goout  health  absences  \\\n",
       "0       1         0         0     0.5  0.333333   0.75     0.5       0.4   \n",
       "1       1         1         0     1.0  0.333333   0.50     0.5       0.2   \n",
       "2       1         1         0     0.5  0.333333   0.25     0.5       0.6   \n",
       "3       1         1         1     0.0  0.000000   0.25     1.0       0.0   \n",
       "4       1         0         0     0.5  0.333333   0.25     1.0       0.0   \n",
       "\n",
       "   Total Score  total_alc  \n",
       "0      0.00000          2  \n",
       "1      0.28125          2  \n",
       "2      0.46875          5  \n",
       "3      0.62500          2  \n",
       "4      0.46875          3  \n",
       "\n",
       "[5 rows x 30 columns]"
      ]
     },
     "execution_count": 26,
     "metadata": {},
     "output_type": "execute_result"
    }
   ],
   "source": [
    "df_por.head()"
   ]
  },
  {
   "cell_type": "markdown",
   "metadata": {},
   "source": [
    "### Feature Selection"
   ]
  },
  {
   "cell_type": "code",
   "execution_count": 27,
   "metadata": {},
   "outputs": [
    {
     "name": "stdout",
     "output_type": "stream",
     "text": [
      "Total Score    1.000000\n",
      "higher         0.268040\n",
      "studytime      0.265301\n",
      "Medu           0.217699\n",
      "address        0.175996\n",
      "Mjob           0.160749\n",
      "Fedu           0.151553\n",
      "internet       0.140664\n",
      "Fjob           0.114259\n",
      "reason         0.098636\n",
      "activities     0.087090\n",
      "age            0.042741\n",
      "nursery        0.029299\n",
      "Pstatus        0.011890\n",
      "famsup        -0.000743\n",
      "famrel        -0.002360\n",
      "famsize       -0.015216\n",
      "romantic      -0.039276\n",
      "guardian      -0.052743\n",
      "goout         -0.068134\n",
      "paid          -0.076954\n",
      "sex           -0.084468\n",
      "traveltime    -0.098740\n",
      "freetime      -0.107468\n",
      "schoolsup     -0.109769\n",
      "health        -0.132160\n",
      "absences      -0.143764\n",
      "total_alc     -0.150897\n",
      "school        -0.176195\n",
      "failures            NaN\n",
      "Name: Total Score, dtype: float64\n"
     ]
    }
   ],
   "source": [
    "# correlaton between total score and other numerical columns\n",
    "score_corr = df_por.corr()['Total Score'].sort_values(ascending=False)\n",
    "print(score_corr)"
   ]
  },
  {
   "cell_type": "code",
   "execution_count": 28,
   "metadata": {},
   "outputs": [
    {
     "name": "stdout",
     "output_type": "stream",
     "text": [
      "['reason', 'activities', 'age', 'nursery', 'Pstatus', 'famsup', 'famrel', 'famsize', 'romantic', 'guardian', 'goout', 'paid', 'sex', 'traveltime']\n"
     ]
    }
   ],
   "source": [
    "# columns with low correlation with the target variable\n",
    "low_corr_columns = score_corr[(score_corr < 0.1) & (score_corr > -0.1)].index\n",
    "low_corr_cols = list(low_corr_columns)\n",
    "print(low_corr_cols)"
   ]
  },
  {
   "cell_type": "code",
   "execution_count": 29,
   "metadata": {},
   "outputs": [],
   "source": [
    "# removing the columns with low correlation\n",
    "df_por.drop(low_corr_cols, axis=1, inplace=True)"
   ]
  },
  {
   "cell_type": "code",
   "execution_count": 30,
   "metadata": {},
   "outputs": [
    {
     "data": {
      "text/html": [
       "<div>\n",
       "<style scoped>\n",
       "    .dataframe tbody tr th:only-of-type {\n",
       "        vertical-align: middle;\n",
       "    }\n",
       "\n",
       "    .dataframe tbody tr th {\n",
       "        vertical-align: top;\n",
       "    }\n",
       "\n",
       "    .dataframe thead th {\n",
       "        text-align: right;\n",
       "    }\n",
       "</style>\n",
       "<table border=\"1\" class=\"dataframe\">\n",
       "  <thead>\n",
       "    <tr style=\"text-align: right;\">\n",
       "      <th></th>\n",
       "      <th>school</th>\n",
       "      <th>address</th>\n",
       "      <th>Medu</th>\n",
       "      <th>Fedu</th>\n",
       "      <th>Mjob</th>\n",
       "      <th>Fjob</th>\n",
       "      <th>studytime</th>\n",
       "      <th>failures</th>\n",
       "      <th>schoolsup</th>\n",
       "      <th>higher</th>\n",
       "      <th>internet</th>\n",
       "      <th>freetime</th>\n",
       "      <th>health</th>\n",
       "      <th>absences</th>\n",
       "      <th>Total Score</th>\n",
       "      <th>total_alc</th>\n",
       "    </tr>\n",
       "  </thead>\n",
       "  <tbody>\n",
       "    <tr>\n",
       "      <th>0</th>\n",
       "      <td>0</td>\n",
       "      <td>1</td>\n",
       "      <td>1.00</td>\n",
       "      <td>1.00</td>\n",
       "      <td>0</td>\n",
       "      <td>4</td>\n",
       "      <td>0.5</td>\n",
       "      <td>0.0</td>\n",
       "      <td>1</td>\n",
       "      <td>1</td>\n",
       "      <td>0</td>\n",
       "      <td>0.333333</td>\n",
       "      <td>0.5</td>\n",
       "      <td>0.4</td>\n",
       "      <td>0.00000</td>\n",
       "      <td>2</td>\n",
       "    </tr>\n",
       "    <tr>\n",
       "      <th>1</th>\n",
       "      <td>0</td>\n",
       "      <td>1</td>\n",
       "      <td>0.25</td>\n",
       "      <td>0.25</td>\n",
       "      <td>0</td>\n",
       "      <td>2</td>\n",
       "      <td>0.5</td>\n",
       "      <td>0.0</td>\n",
       "      <td>0</td>\n",
       "      <td>1</td>\n",
       "      <td>1</td>\n",
       "      <td>0.333333</td>\n",
       "      <td>0.5</td>\n",
       "      <td>0.2</td>\n",
       "      <td>0.28125</td>\n",
       "      <td>2</td>\n",
       "    </tr>\n",
       "    <tr>\n",
       "      <th>2</th>\n",
       "      <td>0</td>\n",
       "      <td>1</td>\n",
       "      <td>0.25</td>\n",
       "      <td>0.25</td>\n",
       "      <td>0</td>\n",
       "      <td>2</td>\n",
       "      <td>0.5</td>\n",
       "      <td>0.0</td>\n",
       "      <td>1</td>\n",
       "      <td>1</td>\n",
       "      <td>1</td>\n",
       "      <td>0.333333</td>\n",
       "      <td>0.5</td>\n",
       "      <td>0.6</td>\n",
       "      <td>0.46875</td>\n",
       "      <td>5</td>\n",
       "    </tr>\n",
       "    <tr>\n",
       "      <th>3</th>\n",
       "      <td>0</td>\n",
       "      <td>1</td>\n",
       "      <td>1.00</td>\n",
       "      <td>0.50</td>\n",
       "      <td>1</td>\n",
       "      <td>3</td>\n",
       "      <td>1.0</td>\n",
       "      <td>0.0</td>\n",
       "      <td>0</td>\n",
       "      <td>1</td>\n",
       "      <td>1</td>\n",
       "      <td>0.000000</td>\n",
       "      <td>1.0</td>\n",
       "      <td>0.0</td>\n",
       "      <td>0.62500</td>\n",
       "      <td>2</td>\n",
       "    </tr>\n",
       "    <tr>\n",
       "      <th>4</th>\n",
       "      <td>0</td>\n",
       "      <td>1</td>\n",
       "      <td>0.75</td>\n",
       "      <td>0.75</td>\n",
       "      <td>2</td>\n",
       "      <td>2</td>\n",
       "      <td>0.5</td>\n",
       "      <td>0.0</td>\n",
       "      <td>0</td>\n",
       "      <td>1</td>\n",
       "      <td>0</td>\n",
       "      <td>0.333333</td>\n",
       "      <td>1.0</td>\n",
       "      <td>0.0</td>\n",
       "      <td>0.46875</td>\n",
       "      <td>3</td>\n",
       "    </tr>\n",
       "  </tbody>\n",
       "</table>\n",
       "</div>"
      ],
      "text/plain": [
       "   school  address  Medu  Fedu  Mjob  Fjob  studytime  failures  schoolsup  \\\n",
       "0       0        1  1.00  1.00     0     4        0.5       0.0          1   \n",
       "1       0        1  0.25  0.25     0     2        0.5       0.0          0   \n",
       "2       0        1  0.25  0.25     0     2        0.5       0.0          1   \n",
       "3       0        1  1.00  0.50     1     3        1.0       0.0          0   \n",
       "4       0        1  0.75  0.75     2     2        0.5       0.0          0   \n",
       "\n",
       "   higher  internet  freetime  health  absences  Total Score  total_alc  \n",
       "0       1         0  0.333333     0.5       0.4      0.00000          2  \n",
       "1       1         1  0.333333     0.5       0.2      0.28125          2  \n",
       "2       1         1  0.333333     0.5       0.6      0.46875          5  \n",
       "3       1         1  0.000000     1.0       0.0      0.62500          2  \n",
       "4       1         0  0.333333     1.0       0.0      0.46875          3  "
      ]
     },
     "execution_count": 30,
     "metadata": {},
     "output_type": "execute_result"
    }
   ],
   "source": [
    "df_por.head()"
   ]
  },
  {
   "cell_type": "markdown",
   "metadata": {},
   "source": [
    "#### Data Splitting"
   ]
  },
  {
   "cell_type": "code",
   "execution_count": 31,
   "metadata": {},
   "outputs": [],
   "source": [
    "X = df_por.drop(['Total Score'], axis=1)\n",
    "y = df_por['Total Score']"
   ]
  },
  {
   "cell_type": "code",
   "execution_count": 32,
   "metadata": {},
   "outputs": [],
   "source": [
    "X_train, X_test, y_train, y_test = train_test_split(X, y, test_size=0.2, random_state=42)"
   ]
  },
  {
   "cell_type": "code",
   "execution_count": 33,
   "metadata": {},
   "outputs": [
    {
     "data": {
      "image/png": "[encoded data removed]",
      "text/plain": [
       "<Figure size 432x288 with 1 Axes>"
      ]
     },
     "metadata": {
      "needs_background": "light"
     },
     "output_type": "display_data"
    }
   ],
   "source": [
    "sns.kdeplot(y_train, label='train')\n",
    "sns.kdeplot(y_test, label='test')\n",
    "plt.legend()\n",
    "plt.title('Test and Train dataset in Total Score distribution')\n",
    "plt.show()"
   ]
  },
  {
   "cell_type": "markdown",
   "metadata": {},
   "source": [
    "### Training the Model"
   ]
  },
  {
   "cell_type": "code",
   "execution_count": 34,
   "metadata": {},
   "outputs": [
    {
     "data": {
      "text/plain": [
       "DecisionTreeRegressor(max_depth=5, random_state=42)"
      ]
     },
     "execution_count": 34,
     "metadata": {},
     "output_type": "execute_result"
    }
   ],
   "source": [
    "# training the decision tree model\n",
    "dt_model = DecisionTreeRegressor(max_depth=5, random_state=42)\n",
    "dt_model.fit(X_train, y_train)"
   ]
  },
  {
   "cell_type": "code",
   "execution_count": 35,
   "metadata": {},
   "outputs": [
    {
     "data": {
      "text/plain": [
       "RandomForestRegressor(random_state=42)"
      ]
     },
     "execution_count": 35,
     "metadata": {},
     "output_type": "execute_result"
    }
   ],
   "source": [
    "# training the random forest model\n",
    "rf_model = RandomForestRegressor(n_estimators=100, random_state=42)\n",
    "rf_model.fit(X_train, y_train)"
   ]
  },
  {
   "cell_type": "markdown",
   "metadata": {},
   "source": [
    "#### Evaluating the Model"
   ]
  },
  {
   "cell_type": "code",
   "execution_count": 36,
   "metadata": {},
   "outputs": [
    {
     "name": "stdout",
     "output_type": "stream",
     "text": [
      "Decision Tree Training RMSE: 0.19325495910745846\n",
      "Decision Tree Training MAE: 0.14791326341855576\n"
     ]
    }
   ],
   "source": [
    "# decision tree model:training data\n",
    "y_pred_dt = dt_model.predict(X_train)\n",
    "dt_train_rmse = np.sqrt(mean_squared_error(y_train, y_pred_dt))\n",
    "dt_train_mae = mean_absolute_error(y_train, y_pred_dt)\n",
    "print(\"Decision Tree Training RMSE:\", dt_train_rmse)\n",
    "print(\"Decision Tree Training MAE:\", dt_train_mae)"
   ]
  },
  {
   "cell_type": "code",
   "execution_count": 37,
   "metadata": {},
   "outputs": [
    {
     "name": "stdout",
     "output_type": "stream",
     "text": [
      "Decision Tree Test RMSE: 0.20261757444953915\n",
      "Decision Tree Test MAE: 0.15868924890572153\n"
     ]
    }
   ],
   "source": [
    "# decision tree model: on test data\n",
    "y_pred = dt_model.predict(X_test)\n",
    "dt_test_rmse = np.sqrt(mean_squared_error(y_test, y_pred))\n",
    "dt_test_mae = mean_absolute_error(y_test, y_pred)\n",
    "print(\"Decision Tree Test RMSE:\", dt_test_rmse)\n",
    "print(\"Decision Tree Test MAE:\", dt_test_mae)"
   ]
  },
  {
   "cell_type": "code",
   "execution_count": 38,
   "metadata": {},
   "outputs": [
    {
     "name": "stdout",
     "output_type": "stream",
     "text": [
      "Random Forest Training RMSE: 0.08250797871070364\n",
      "Random Forest Training MAE: 0.06454861111111111\n"
     ]
    }
   ],
   "source": [
    "# random forest model: training data\n",
    "y_pred_rf = rf_model.predict(X_train)\n",
    "rf_train_rmse = np.sqrt(mean_squared_error(y_train, y_pred_rf))\n",
    "rf_train_mae = mean_absolute_error(y_train, y_pred_rf)\n",
    "print(\"Random Forest Training RMSE:\", rf_train_rmse)\n",
    "print(\"Random Forest Training MAE:\", rf_train_mae)"
   ]
  },
  {
   "cell_type": "code",
   "execution_count": 39,
   "metadata": {},
   "outputs": [
    {
     "name": "stdout",
     "output_type": "stream",
     "text": [
      "Random Forest Test RMSE: 0.18605941445392107\n",
      "Random Forest Test MAE: 0.14656631097560976\n"
     ]
    }
   ],
   "source": [
    "# random forest model: test data\n",
    "y_pred_rf = rf_model.predict(X_test)\n",
    "rf_test_rmse = np.sqrt(mean_squared_error(y_test, y_pred_rf))\n",
    "rf_test_mae = mean_absolute_error(y_test, y_pred_rf)\n",
    "print(\"Random Forest Test RMSE:\", rf_test_rmse)\n",
    "print(\"Random Forest Test MAE:\", rf_test_mae)"
   ]
  },
  {
   "cell_type": "markdown",
   "metadata": {},
   "source": [
    "### Model Performance Comparison"
   ]
  },
  {
   "cell_type": "code",
   "execution_count": 40,
   "metadata": {},
   "outputs": [
    {
     "data": {
      "image/png": "[encoded data removed]",
      "text/plain": [
       "<Figure size 720x360 with 1 Axes>"
      ]
     },
     "metadata": {
      "needs_background": "light"
     },
     "output_type": "display_data"
    },
    {
     "data": {
      "image/png": "[encoded data removed]",
      "text/plain": [
       "<Figure size 720x360 with 1 Axes>"
      ]
     },
     "metadata": {
      "needs_background": "light"
     },
     "output_type": "display_data"
    }
   ],
   "source": [
    "# RMSE comparison\n",
    "plt.figure(figsize=(10, 5))\n",
    "plt.bar(['Decision Tree', 'Random Forest'], [dt_train_rmse, rf_train_rmse], color=['red', 'blue'])\n",
    "plt.title('Train RMSE')\n",
    "plt.figure(figsize=(10, 5))\n",
    "plt.bar(['Decision Tree', 'Random Forest'], [dt_test_rmse, rf_test_rmse], color=['red', 'blue'])\n",
    "plt.title('Test RMSE')\n",
    "plt.show()"
   ]
  },
  {
   "cell_type": "code",
   "execution_count": 41,
   "metadata": {},
   "outputs": [
    {
     "data": {
      "image/png": "[encoded data removed]",
      "text/plain": [
       "<Figure size 720x360 with 1 Axes>"
      ]
     },
     "metadata": {
      "needs_background": "light"
     },
     "output_type": "display_data"
    },
    {
     "data": {
      "image/png": "[encoded data removed]",
      "text/plain": [
       "<Figure size 720x360 with 1 Axes>"
      ]
     },
     "metadata": {
      "needs_background": "light"
     },
     "output_type": "display_data"
    }
   ],
   "source": [
    "# MAE comparison\n",
    "plt.figure(figsize=(10, 5))\n",
    "plt.bar(['Decision Tree', 'Random Forest'], [dt_train_mae, rf_train_mae], color=['red', 'blue'])\n",
    "plt.title('Train MAE')\n",
    "plt.figure(figsize=(10, 5))\n",
    "plt.bar(['Decision Tree', 'Random Forest'], [dt_test_mae, rf_test_mae], color=['red', 'blue'])\n",
    "plt.title('Test MAE')\n",
    "plt.show()"
   ]
  },
  {
   "cell_type": "markdown",
   "metadata": {},
   "source": [
    "### Cross Validation"
   ]
  },
  {
   "cell_type": "code",
   "execution_count": 42,
   "metadata": {
    "execution": {
     "iopub.execute_input": "2020-12-21T21:07:54.651710Z",
     "iopub.status.busy": "2020-12-21T21:07:54.651030Z",
     "iopub.status.idle": "2020-12-21T21:07:54.654917Z",
     "shell.execute_reply": "2020-12-21T21:07:54.654265Z"
    },
    "papermill": {
     "duration": 0.148122,
     "end_time": "2020-12-21T21:07:54.655054",
     "exception": false,
     "start_time": "2020-12-21T21:07:54.506932",
     "status": "completed"
    },
    "tags": []
   },
   "outputs": [
    {
     "name": "stdout",
     "output_type": "stream",
     "text": [
      "Decision Tree Model:\n",
      "Root Mean Square Error: 0.2478014083364005\n",
      "Mean Absolute Error: 0.19699524280821987\n"
     ]
    }
   ],
   "source": [
    "# 5 fold cross validation of the decision tree model\n",
    "tree_rmse = []\n",
    "tree_mae = []\n",
    "kf = KFold(n_splits=5)\n",
    "for train_index, test_index in kf.split(X_train):\n",
    "    X_train_fold, X_test_fold = X_train.iloc[train_index], X_train.iloc[test_index]\n",
    "    y_train_fold, y_test_fold = y_train.iloc[train_index], y_train.iloc[test_index]\n",
    "    dt_model.fit(X_train_fold, y_train_fold)\n",
    "    y_pred = dt_model.predict(X_test_fold)\n",
    "    tree_rmse.append(np.sqrt(mean_squared_error(y_test_fold, y_pred)))\n",
    "    tree_mae.append(mean_absolute_error(y_test_fold, y_pred))\n",
    "\n",
    "# print the mean of the 5 fold cross validation\n",
    "print(\"Decision Tree Model:\")\n",
    "print(\"Root Mean Square Error:\", np.mean(tree_rmse))\n",
    "print(\"Mean Absolute Error:\", np.mean(tree_mae))"
   ]
  },
  {
   "cell_type": "code",
   "execution_count": 43,
   "metadata": {},
   "outputs": [
    {
     "name": "stdout",
     "output_type": "stream",
     "text": [
      "Random Forest Model:\n",
      "Root Mean Square Error: 0.21902157883856482\n",
      "Mean Absolute Error: 0.1736814152644231\n"
     ]
    }
   ],
   "source": [
    "# 5 fold cross validation of the random forest model\n",
    "rf_rmse = []\n",
    "rf_mae = []\n",
    "kf = KFold(n_splits=5)\n",
    "for train_index, test_index in kf.split(X_train):\n",
    "    X_train_fold, X_test_fold = X_train.iloc[train_index], X_train.iloc[test_index]\n",
    "    y_train_fold, y_test_fold = y_train.iloc[train_index], y_train.iloc[test_index]\n",
    "    rf_model.fit(X_train_fold, y_train_fold)\n",
    "    y_pred = rf_model.predict(X_test_fold)\n",
    "    rf_rmse.append(np.sqrt(mean_squared_error(y_test_fold, y_pred)))\n",
    "    rf_mae.append(mean_absolute_error(y_test_fold, y_pred))\n",
    "\n",
    "# print the mean of the 5 fold cross validation results\n",
    "print(\"Random Forest Model:\")\n",
    "print(\"Root Mean Square Error:\", np.mean(rf_rmse))\n",
    "print(\"Mean Absolute Error:\", np.mean(rf_mae))"
   ]
  },
  {
   "cell_type": "markdown",
   "metadata": {},
   "source": [
    "#Random Forest Performing better than Decision Tree model."
   ]
  },
  {
   "cell_type": "markdown",
   "metadata": {},
   "source": [
    "### Hyper-Parameter Optimization\n"
   ]
  },
  {
   "cell_type": "code",
   "execution_count": 44,
   "metadata": {},
   "outputs": [
    {
     "name": "stdout",
     "output_type": "stream",
     "text": [
      "Fitting 5 folds for each of 10 candidates, totalling 50 fits\n",
      "[CV] END bootstrap=False, max_depth=3, min_samples_leaf=2, min_samples_split=9, n_estimators=80; total time=   0.0s\n",
      "[CV] END bootstrap=False, max_depth=3, min_samples_leaf=2, min_samples_split=9, n_estimators=80; total time=   0.0s\n",
      "[CV] END bootstrap=False, max_depth=3, min_samples_leaf=2, min_samples_split=9, n_estimators=80; total time=   0.0s\n",
      "[CV] END bootstrap=False, max_depth=3, min_samples_leaf=2, min_samples_split=9, n_estimators=80; total time=   0.0s\n",
      "[CV] END bootstrap=False, max_depth=3, min_samples_leaf=2, min_samples_split=9, n_estimators=80; total time=   0.0s\n",
      "[CV] END bootstrap=True, max_depth=2, min_samples_leaf=3, min_samples_split=9, n_estimators=60; total time=   0.0s\n",
      "[CV] END bootstrap=True, max_depth=2, min_samples_leaf=3, min_samples_split=9, n_estimators=60; total time=   0.0s\n",
      "[CV] END bootstrap=True, max_depth=2, min_samples_leaf=3, min_samples_split=9, n_estimators=60; total time=   0.0s\n",
      "[CV] END bootstrap=True, max_depth=2, min_samples_leaf=3, min_samples_split=9, n_estimators=60; total time=   0.0s\n",
      "[CV] END bootstrap=True, max_depth=2, min_samples_leaf=3, min_samples_split=9, n_estimators=60; total time=   0.0s\n",
      "[CV] END bootstrap=True, max_depth=9, min_samples_leaf=3, min_samples_split=8, n_estimators=90; total time=   0.0s\n",
      "[CV] END bootstrap=True, max_depth=9, min_samples_leaf=3, min_samples_split=8, n_estimators=90; total time=   0.0s\n",
      "[CV] END bootstrap=True, max_depth=9, min_samples_leaf=3, min_samples_split=8, n_estimators=90; total time=   0.0s\n",
      "[CV] END bootstrap=True, max_depth=9, min_samples_leaf=3, min_samples_split=8, n_estimators=90; total time=   0.0s\n",
      "[CV] END bootstrap=True, max_depth=9, min_samples_leaf=3, min_samples_split=8, n_estimators=90; total time=   0.0s\n",
      "[CV] END bootstrap=True, max_depth=9, min_samples_leaf=1, min_samples_split=2, n_estimators=80; total time=   0.0s\n",
      "[CV] END bootstrap=True, max_depth=9, min_samples_leaf=1, min_samples_split=2, n_estimators=80; total time=   0.0s\n",
      "[CV] END bootstrap=True, max_depth=9, min_samples_leaf=1, min_samples_split=2, n_estimators=80; total time=   0.0s\n",
      "[CV] END bootstrap=True, max_depth=9, min_samples_leaf=1, min_samples_split=2, n_estimators=80; total time=   0.0s\n",
      "[CV] END bootstrap=True, max_depth=9, min_samples_leaf=1, min_samples_split=2, n_estimators=80; total time=   0.0s\n",
      "[CV] END bootstrap=False, max_depth=9, min_samples_leaf=4, min_samples_split=7, n_estimators=80; total time=   0.0s\n",
      "[CV] END bootstrap=False, max_depth=9, min_samples_leaf=4, min_samples_split=7, n_estimators=80; total time=   0.0s\n",
      "[CV] END bootstrap=False, max_depth=9, min_samples_leaf=4, min_samples_split=7, n_estimators=80; total time=   0.0s\n",
      "[CV] END bootstrap=False, max_depth=9, min_samples_leaf=4, min_samples_split=7, n_estimators=80; total time=   0.0s\n",
      "[CV] END bootstrap=False, max_depth=9, min_samples_leaf=4, min_samples_split=7, n_estimators=80; total time=   0.0s\n",
      "[CV] END bootstrap=True, max_depth=9, min_samples_leaf=8, min_samples_split=7, n_estimators=20; total time=   0.0s\n",
      "[CV] END bootstrap=True, max_depth=9, min_samples_leaf=8, min_samples_split=7, n_estimators=20; total time=   0.0s\n",
      "[CV] END bootstrap=True, max_depth=9, min_samples_leaf=8, min_samples_split=7, n_estimators=20; total time=   0.0s\n",
      "[CV] END bootstrap=True, max_depth=9, min_samples_leaf=8, min_samples_split=7, n_estimators=20; total time=   0.0s\n",
      "[CV] END bootstrap=True, max_depth=9, min_samples_leaf=8, min_samples_split=7, n_estimators=20; total time=   0.0s\n",
      "[CV] END bootstrap=False, max_depth=1, min_samples_leaf=7, min_samples_split=2, n_estimators=20; total time=   0.0s\n",
      "[CV] END bootstrap=False, max_depth=1, min_samples_leaf=7, min_samples_split=2, n_estimators=20; total time=   0.0s\n",
      "[CV] END bootstrap=False, max_depth=1, min_samples_leaf=7, min_samples_split=2, n_estimators=20; total time=   0.0s\n",
      "[CV] END bootstrap=False, max_depth=1, min_samples_leaf=7, min_samples_split=2, n_estimators=20; total time=   0.0s\n",
      "[CV] END bootstrap=False, max_depth=1, min_samples_leaf=7, min_samples_split=2, n_estimators=20; total time=   0.0s\n",
      "[CV] END bootstrap=True, max_depth=1, min_samples_leaf=7, min_samples_split=5, n_estimators=80; total time=   0.0s\n",
      "[CV] END bootstrap=True, max_depth=1, min_samples_leaf=7, min_samples_split=5, n_estimators=80; total time=   0.0s\n",
      "[CV] END bootstrap=True, max_depth=1, min_samples_leaf=7, min_samples_split=5, n_estimators=80; total time=   0.0s\n",
      "[CV] END bootstrap=True, max_depth=1, min_samples_leaf=7, min_samples_split=5, n_estimators=80; total time=   0.0s\n",
      "[CV] END bootstrap=True, max_depth=1, min_samples_leaf=7, min_samples_split=5, n_estimators=80; total time=   0.0s\n",
      "[CV] END bootstrap=True, max_depth=7, min_samples_leaf=8, min_samples_split=5, n_estimators=80; total time=   0.0s\n",
      "[CV] END bootstrap=True, max_depth=7, min_samples_leaf=8, min_samples_split=5, n_estimators=80; total time=   0.0s\n",
      "[CV] END bootstrap=True, max_depth=7, min_samples_leaf=8, min_samples_split=5, n_estimators=80; total time=   0.0s\n",
      "[CV] END bootstrap=True, max_depth=7, min_samples_leaf=8, min_samples_split=5, n_estimators=80; total time=   0.0s\n",
      "[CV] END bootstrap=True, max_depth=7, min_samples_leaf=8, min_samples_split=5, n_estimators=80; total time=   0.0s\n",
      "[CV] END bootstrap=True, max_depth=9, min_samples_leaf=6, min_samples_split=5, n_estimators=80; total time=   0.0s\n",
      "[CV] END bootstrap=True, max_depth=9, min_samples_leaf=6, min_samples_split=5, n_estimators=80; total time=   0.0s\n",
      "[CV] END bootstrap=True, max_depth=9, min_samples_leaf=6, min_samples_split=5, n_estimators=80; total time=   0.0s\n",
      "[CV] END bootstrap=True, max_depth=9, min_samples_leaf=6, min_samples_split=5, n_estimators=80; total time=   0.0s\n",
      "[CV] END bootstrap=True, max_depth=9, min_samples_leaf=6, min_samples_split=5, n_estimators=80; total time=   0.0s\n",
      "Random Forest Model:\n",
      "Best Parameters: {'n_estimators': 80, 'min_samples_split': 2, 'min_samples_leaf': 1, 'max_depth': 9, 'bootstrap': True}\n",
      "Best Score: 0.08225866302000831\n",
      "Best Estimator: RandomForestRegressor(max_depth=9, n_estimators=80)\n"
     ]
    }
   ],
   "source": [
    "# find the optimal hyperparameters for the random forest model by using random search\n",
    "# define the parameters for the random search\n",
    "param_dist = {\n",
    "    'n_estimators': list(range(10, 100,10)),\n",
    "    'max_depth': list(range(1, 10)),\n",
    "    'min_samples_split': list(range(2, 10)),\n",
    "    'min_samples_leaf': list(range(1, 10)),\n",
    "    'bootstrap': [True, False]\n",
    "}\n",
    "\n",
    "rf_reg = RandomForestRegressor()\n",
    "rf_random_search = RandomizedSearchCV(estimator=rf_reg, param_distributions=param_dist, n_iter=10, cv=5, verbose=2, random_state=42)\n",
    "rf_random_search.fit(X_train, y_train)\n",
    "print(\"Random Forest Model:\")\n",
    "print(\"Best Parameters:\", rf_random_search.best_params_)\n",
    "print(\"Best Score:\", rf_random_search.best_score_)\n",
    "print(\"Best Estimator:\", rf_random_search.best_estimator_)\n"
   ]
  },
  {
   "cell_type": "code",
   "execution_count": 45,
   "metadata": {},
   "outputs": [
    {
     "name": "stdout",
     "output_type": "stream",
     "text": [
      "Random Forest Test RMSE: 0.17746596584891652\n",
      "Random Forest Test MAE: 0.13827804809942737\n"
     ]
    }
   ],
   "source": [
    "# evaluate the random forest model on test data\n",
    "y_pred_rf = rf_random_search.best_estimator_.predict(X_test)\n",
    "rf_test_rmse_best = np.sqrt(mean_squared_error(y_test, y_pred_rf))\n",
    "rf_test_mae_best = mean_absolute_error(y_test, y_pred_rf)\n",
    "print(\"Random Forest Test RMSE:\", rf_test_rmse_best)\n",
    "print(\"Random Forest Test MAE:\", rf_test_mae_best)"
   ]
  },
  {
   "cell_type": "code",
   "execution_count": 46,
   "metadata": {},
   "outputs": [
    {
     "name": "stdout",
     "output_type": "stream",
     "text": [
      "Fitting 5 folds for each of 10 candidates, totalling 50 fits\n",
      "[CV] END max_depth=12, min_samples_leaf=9, min_samples_split=6; total time=   0.0s\n",
      "[CV] END max_depth=12, min_samples_leaf=9, min_samples_split=6; total time=   0.0s\n",
      "[CV] END max_depth=12, min_samples_leaf=9, min_samples_split=6; total time=   0.0s\n",
      "[CV] END max_depth=12, min_samples_leaf=9, min_samples_split=6; total time=   0.0s\n",
      "[CV] END max_depth=12, min_samples_leaf=9, min_samples_split=6; total time=   0.0s\n",
      "[CV] END max_depth=75, min_samples_leaf=8, min_samples_split=8; total time=   0.0s\n",
      "[CV] END max_depth=75, min_samples_leaf=8, min_samples_split=8; total time=   0.0s\n",
      "[CV] END max_depth=75, min_samples_leaf=8, min_samples_split=8; total time=   0.0s\n",
      "[CV] END max_depth=75, min_samples_leaf=8, min_samples_split=8; total time=   0.0s\n",
      "[CV] END max_depth=75, min_samples_leaf=8, min_samples_split=8; total time=   0.0s\n",
      "[CV] END max_depth=73, min_samples_leaf=6, min_samples_split=4; total time=   0.0s\n",
      "[CV] END max_depth=73, min_samples_leaf=6, min_samples_split=4; total time=   0.0s\n",
      "[CV] END max_depth=73, min_samples_leaf=6, min_samples_split=4; total time=   0.0s\n",
      "[CV] END max_depth=73, min_samples_leaf=6, min_samples_split=4; total time=   0.0s\n",
      "[CV] END max_depth=73, min_samples_leaf=6, min_samples_split=4; total time=   0.0s\n",
      "[CV] END max_depth=73, min_samples_leaf=1, min_samples_split=9; total time=   0.0s\n",
      "[CV] END max_depth=73, min_samples_leaf=1, min_samples_split=9; total time=   0.0s\n",
      "[CV] END max_depth=73, min_samples_leaf=1, min_samples_split=9; total time=   0.0s\n",
      "[CV] END max_depth=73, min_samples_leaf=1, min_samples_split=9; total time=   0.0s\n",
      "[CV] END max_depth=73, min_samples_leaf=1, min_samples_split=9; total time=   0.0s\n",
      "[CV] END max_depth=53, min_samples_leaf=4, min_samples_split=6; total time=   0.0s\n",
      "[CV] END max_depth=53, min_samples_leaf=4, min_samples_split=6; total time=   0.0s\n",
      "[CV] END max_depth=53, min_samples_leaf=4, min_samples_split=6; total time=   0.0s\n",
      "[CV] END max_depth=53, min_samples_leaf=4, min_samples_split=6; total time=   0.0s\n",
      "[CV] END max_depth=53, min_samples_leaf=4, min_samples_split=6; total time=   0.0s\n",
      "[CV] END max_depth=43, min_samples_leaf=9, min_samples_split=6; total time=   0.0s\n",
      "[CV] END max_depth=43, min_samples_leaf=9, min_samples_split=6; total time=   0.0s\n",
      "[CV] END max_depth=43, min_samples_leaf=9, min_samples_split=6; total time=   0.0s\n",
      "[CV] END max_depth=43, min_samples_leaf=9, min_samples_split=6; total time=   0.0s\n",
      "[CV] END max_depth=43, min_samples_leaf=9, min_samples_split=6; total time=   0.0s\n",
      "[CV] END max_depth=80, min_samples_leaf=6, min_samples_split=8; total time=   0.0s\n",
      "[CV] END max_depth=80, min_samples_leaf=6, min_samples_split=8; total time=   0.0s\n",
      "[CV] END max_depth=80, min_samples_leaf=6, min_samples_split=8; total time=   0.0s\n",
      "[CV] END max_depth=80, min_samples_leaf=6, min_samples_split=8; total time=   0.0s\n",
      "[CV] END max_depth=80, min_samples_leaf=6, min_samples_split=8; total time=   0.0s\n",
      "[CV] END max_depth=88, min_samples_leaf=1, min_samples_split=3; total time=   0.0s\n",
      "[CV] END max_depth=88, min_samples_leaf=1, min_samples_split=3; total time=   0.0s\n",
      "[CV] END max_depth=88, min_samples_leaf=1, min_samples_split=3; total time=   0.0s\n",
      "[CV] END max_depth=88, min_samples_leaf=1, min_samples_split=3; total time=   0.0s\n",
      "[CV] END max_depth=88, min_samples_leaf=1, min_samples_split=3; total time=   0.0s\n",
      "[CV] END max_depth=7, min_samples_leaf=5, min_samples_split=4; total time=   0.0s\n",
      "[CV] END max_depth=7, min_samples_leaf=5, min_samples_split=4; total time=   0.0s\n",
      "[CV] END max_depth=7, min_samples_leaf=5, min_samples_split=4; total time=   0.0s\n",
      "[CV] END max_depth=7, min_samples_leaf=5, min_samples_split=4; total time=   0.0s\n",
      "[CV] END max_depth=7, min_samples_leaf=5, min_samples_split=4; total time=   0.0s\n",
      "[CV] END max_depth=75, min_samples_leaf=1, min_samples_split=8; total time=   0.0s\n",
      "[CV] END max_depth=75, min_samples_leaf=1, min_samples_split=8; total time=   0.0s\n",
      "[CV] END max_depth=75, min_samples_leaf=1, min_samples_split=8; total time=   0.0s\n",
      "[CV] END max_depth=75, min_samples_leaf=1, min_samples_split=8; total time=   0.0s\n",
      "[CV] END max_depth=75, min_samples_leaf=1, min_samples_split=8; total time=   0.0s\n",
      "Decision Tree Model:\n",
      "Best Parameters: {'min_samples_split': 6, 'min_samples_leaf': 9, 'max_depth': 12}\n",
      "Best Score: -0.12220609695274005\n",
      "Best Estimator: DecisionTreeRegressor(max_depth=12, min_samples_leaf=9, min_samples_split=6)\n"
     ]
    }
   ],
   "source": [
    "# hyperparameter tuning for the decision tree model\n",
    "param_dist = {\n",
    "    'max_depth': list(range(1, 100)),\n",
    "    'min_samples_split': list(range(2, 10)),\n",
    "    'min_samples_leaf': list(range(1, 10)),\n",
    "}\n",
    "\n",
    "dt_reg = DecisionTreeRegressor()\n",
    "dt_random_search = RandomizedSearchCV(estimator=dt_reg, param_distributions=param_dist, n_iter=10, cv=5, verbose=2, random_state=42)\n",
    "dt_random_search.fit(X_train, y_train)\n",
    "print(\"Decision Tree Model:\")\n",
    "print(\"Best Parameters:\", dt_random_search.best_params_)\n",
    "print(\"Best Score:\", dt_random_search.best_score_)\n",
    "print(\"Best Estimator:\", dt_random_search.best_estimator_)"
   ]
  },
  {
   "cell_type": "code",
   "execution_count": 47,
   "metadata": {},
   "outputs": [
    {
     "name": "stdout",
     "output_type": "stream",
     "text": [
      "Decision Tree Test RMSE: 0.21235989646404524\n",
      "Decision Tree Test MAE: 0.16779907772190544\n"
     ]
    }
   ],
   "source": [
    "# evaluating the decision tree model on test data\n",
    "y_pred_dt = dt_random_search.best_estimator_.predict(X_test)\n",
    "dt_test_rmse_best = np.sqrt(mean_squared_error(y_test, y_pred_dt))\n",
    "dt_test_mae_best = mean_absolute_error(y_test, y_pred_dt)\n",
    "print(\"Decision Tree Test RMSE:\", dt_test_rmse_best)\n",
    "print(\"Decision Tree Test MAE:\", dt_test_mae_best)"
   ]
  },
  {
   "cell_type": "markdown",
   "metadata": {},
   "source": [
    "#### Performance Comparison between Tuned and Untuned Models"
   ]
  },
  {
   "cell_type": "code",
   "execution_count": 48,
   "metadata": {},
   "outputs": [
    {
     "data": {
      "image/png": "[encoded data removed]",
      "text/plain": [
       "<Figure size 720x360 with 1 Axes>"
      ]
     },
     "metadata": {
      "needs_background": "light"
     },
     "output_type": "display_data"
    },
    {
     "data": {
      "image/png": "[encoded data removed]",
      "text/plain": [
       "<Figure size 720x360 with 1 Axes>"
      ]
     },
     "metadata": {
      "needs_background": "light"
     },
     "output_type": "display_data"
    }
   ],
   "source": [
    "# RMSE and MAE for the decision tree model\n",
    "plt.figure(figsize=(10, 5))\n",
    "plt.bar(['Decision Tree Tuned', 'Decision Tree'], [dt_test_rmse_best, dt_test_rmse], color=['red', 'blue'])\n",
    "plt.title('Test RMSE')\n",
    "plt.figure(figsize=(10, 5))\n",
    "plt.bar(['Decision Tree Tuned', 'Decision Tree'], [dt_test_mae_best, dt_test_mae], color=['red', 'blue'])\n",
    "plt.title('Test MAE')\n",
    "plt.show()"
   ]
  },
  {
   "cell_type": "code",
   "execution_count": 49,
   "metadata": {},
   "outputs": [
    {
     "data": {
      "image/png": "[encoded data removed]",
      "text/plain": [
       "<Figure size 720x360 with 1 Axes>"
      ]
     },
     "metadata": {
      "needs_background": "light"
     },
     "output_type": "display_data"
    },
    {
     "data": {
      "image/png": "[encoded data removed]",
      "text/plain": [
       "<Figure size 720x360 with 1 Axes>"
      ]
     },
     "metadata": {
      "needs_background": "light"
     },
     "output_type": "display_data"
    }
   ],
   "source": [
    "plt.figure(figsize=(10, 5))\n",
    "plt.bar(['Random Forest Tuned', 'Random Forest'], [rf_test_rmse_best, rf_test_rmse], color=['red', 'blue'])\n",
    "plt.title('Test RMSE')\n",
    "plt.figure(figsize=(10, 5))\n",
    "plt.bar(['Random Forest Tuned', 'Random Forest'], [rf_test_mae_best, rf_test_mae], color=['red', 'blue'])\n",
    "plt.title('Test MAE')\n",
    "plt.show()"
   ]
  },
  {
   "cell_type": "code",
   "execution_count": 50,
   "metadata": {},
   "outputs": [
    {
     "data": {
      "image/png": "[encoded data removed]",
      "text/plain": [
       "<Figure size 720x360 with 1 Axes>"
      ]
     },
     "metadata": {
      "needs_background": "light"
     },
     "output_type": "display_data"
    },
    {
     "data": {
      "image/png": "[encoded data removed]",
      "text/plain": [
       "<Figure size 720x360 with 1 Axes>"
      ]
     },
     "metadata": {
      "needs_background": "light"
     },
     "output_type": "display_data"
    }
   ],
   "source": [
    "plt.figure(figsize=(10, 5))\n",
    "# RMSE comparison\n",
    "plt.bar(['Decision Tree', 'Random Forest'], [dt_test_rmse_best, rf_test_rmse_best], color=['red', 'blue'])\n",
    "plt.title('Test RMSE')\n",
    "plt.figure(figsize=(10, 5))\n",
    "# MAE comparison\n",
    "plt.bar(['Decision Tree', 'Random Forest'], [dt_test_mae_best, rf_test_mae_best], color=['red', 'blue'])\n",
    "plt.title('Test MAE')\n",
    "plt.show()"
   ]
  },
  {
   "cell_type": "markdown",
   "metadata": {},
   "source": [
    "*We can see that the random forest performs better than the decision tree.*"
   ]
  }
 ],
 "metadata": {
  "interpreter": {
   "hash": "64b3b00af4a804b50c260917e286291c0f1977b89161aacfab2362fbb58ec5a5"
  },
  "kernelspec": {
   "display_name": "Python 3 (ipykernel)",
   "language": "python",
   "name": "python3"
  },
  "language_info": {
   "codemirror_mode": {
    "name": "ipython",
    "version": 3
   },
   "file_extension": ".py",
   "mimetype": "text/x-python",
   "name": "python",
   "nbconvert_exporter": "python",
   "pygments_lexer": "ipython3",
   "version": "3.9.7"
  },
  "papermill": {
   "duration": 41.858808,
   "end_time": "2020-12-21T21:07:59.579233",
   "environment_variables": {},
   "exception": null,
   "input_path": "__notebook__.ipynb",
   "output_path": "__notebook__.ipynb",
   "parameters": {},
   "start_time": "2020-12-21T21:07:17.720425",
   "version": "2.1.0"
  }
 },
 "nbformat": 4,
 "nbformat_minor": 4
}
